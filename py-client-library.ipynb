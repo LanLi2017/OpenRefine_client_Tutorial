{
 "cells": [
  {
   "cell_type": "code",
   "execution_count": 1,
   "metadata": {},
   "outputs": [],
   "source": [
    "from OpenRefineClientPy3.google_refine.refine import refine\n",
    "from OR import Refineop\n",
    "import pandas as pd\n",
    "import json\n",
    "from pprint import pprint"
   ]
  },
  {
   "cell_type": "markdown",
   "metadata": {},
   "source": [
    "# Project"
   ]
  },
  {
   "cell_type": "code",
   "execution_count": 5,
   "metadata": {
    "pycharm": {
     "name": "#%%\n"
    }
   },
   "outputs": [
    {
     "name": "stdout",
     "output_type": "stream",
     "text": [
      "<class 'dict'>\n",
      "{'1596601650071': {'contributors': '',\n",
      "                   'created': '2020-04-14T20:32:24Z',\n",
      "                   'creator': '',\n",
      "                   'customMetadata': {},\n",
      "                   'description': '',\n",
      "                   'homepage': '',\n",
      "                   'image': '',\n",
      "                   'importOptionMetadata': [{'encoding': '',\n",
      "                                             'fileSource': 'CoronaVirus_tweets.csv',\n",
      "                                             'guessCellValueTypes': False,\n",
      "                                             'headerLines': 1,\n",
      "                                             'ignoreLines': -1,\n",
      "                                             'includeFileSources': False,\n",
      "                                             'limit': -1,\n",
      "                                             'processQuotes': True,\n",
      "                                             'projectName': 'tweet',\n",
      "                                             'projectTags': [''],\n",
      "                                             'quoteCharacter': '\"',\n",
      "                                             'separator': ',',\n",
      "                                             'skipDataLines': 0,\n",
      "                                             'storeBlankCellsAsNulls': True,\n",
      "                                             'storeBlankRows': True}],\n",
      "                   'license': '',\n",
      "                   'modified': '2020-04-15T22:06:16Z',\n",
      "                   'name': 'tweet',\n",
      "                   'rowCount': 1000,\n",
      "                   'subject': '',\n",
      "                   'tags': [],\n",
      "                   'title': '',\n",
      "                   'version': ''},\n",
      " '1943681426967': {'contributors': '',\n",
      "                   'created': '2020-04-14T20:32:24Z',\n",
      "                   'creator': '',\n",
      "                   'customMetadata': {},\n",
      "                   'description': '',\n",
      "                   'homepage': '',\n",
      "                   'image': '',\n",
      "                   'importOptionMetadata': [{'encoding': '',\n",
      "                                             'fileSource': 'tag.csv',\n",
      "                                             'guessCellValueTypes': False,\n",
      "                                             'headerLines': 1,\n",
      "                                             'ignoreLines': -1,\n",
      "                                             'includeFileSources': False,\n",
      "                                             'limit': -1,\n",
      "                                             'processQuotes': True,\n",
      "                                             'projectName': 'tag',\n",
      "                                             'projectTags': [''],\n",
      "                                             'quoteCharacter': '\"',\n",
      "                                             'separator': ',',\n",
      "                                             'skipDataLines': 0,\n",
      "                                             'storeBlankCellsAsNulls': True,\n",
      "                                             'storeBlankRows': True}],\n",
      "                   'license': '',\n",
      "                   'modified': '2020-04-15T05:08:18Z',\n",
      "                   'name': 'tag',\n",
      "                   'rowCount': 9,\n",
      "                   'subject': '',\n",
      "                   'tags': [],\n",
      "                   'title': '',\n",
      "                   'version': ''},\n",
      " '2014260363969': {'contributors': '',\n",
      "                   'created': '2020-04-14T20:32:24Z',\n",
      "                   'creator': '',\n",
      "                   'customMetadata': {},\n",
      "                   'description': '',\n",
      "                   'homepage': '',\n",
      "                   'image': '',\n",
      "                   'importOptionMetadata': [{'encoding': '',\n",
      "                                             'fileSource': 'part_Covid_tweets.csv',\n",
      "                                             'guessCellValueTypes': False,\n",
      "                                             'headerLines': 1,\n",
      "                                             'ignoreLines': -1,\n",
      "                                             'includeFileSources': False,\n",
      "                                             'limit': -1,\n",
      "                                             'processQuotes': True,\n",
      "                                             'projectName': 'Covid_tweets csv',\n",
      "                                             'projectTags': [''],\n",
      "                                             'quoteCharacter': '\"',\n",
      "                                             'separator': ',',\n",
      "                                             'skipDataLines': 0,\n",
      "                                             'storeBlankCellsAsNulls': True,\n",
      "                                             'storeBlankRows': True}],\n",
      "                   'license': '',\n",
      "                   'modified': '2020-04-15T22:04:17Z',\n",
      "                   'name': 'Covid_tweets',\n",
      "                   'rowCount': 1000,\n",
      "                   'subject': '',\n",
      "                   'tags': [],\n",
      "                   'title': '',\n",
      "                   'version': ''},\n",
      " '2234345757514': {'contributors': '',\n",
      "                   'created': '2020-04-14T20:32:24Z',\n",
      "                   'creator': '',\n",
      "                   'customMetadata': {},\n",
      "                   'description': '',\n",
      "                   'homepage': '',\n",
      "                   'image': '',\n",
      "                   'license': '',\n",
      "                   'modified': '2020-04-14T01:49:48Z',\n",
      "                   'name': 'Untitled',\n",
      "                   'rowCount': 0,\n",
      "                   'subject': '',\n",
      "                   'tags': [],\n",
      "                   'title': '',\n",
      "                   'version': ''},\n",
      " '2247077554890': {'contributors': '',\n",
      "                   'created': '2020-04-14T20:32:24Z',\n",
      "                   'creator': '',\n",
      "                   'customMetadata': {},\n",
      "                   'description': '',\n",
      "                   'homepage': '',\n",
      "                   'image': '',\n",
      "                   'importOptionMetadata': [{'encoding': '',\n",
      "                                             'fileSource': 'CoronaVirus_tweets.csv',\n",
      "                                             'guessCellValueTypes': False,\n",
      "                                             'headerLines': 1,\n",
      "                                             'ignoreLines': -1,\n",
      "                                             'includeFileSources': False,\n",
      "                                             'limit': -1,\n",
      "                                             'processQuotes': True,\n",
      "                                             'projectName': 'CoronaVirus_tweets',\n",
      "                                             'projectTags': [''],\n",
      "                                             'quoteCharacter': '\"',\n",
      "                                             'separator': ',',\n",
      "                                             'skipDataLines': 0,\n",
      "                                             'storeBlankCellsAsNulls': True,\n",
      "                                             'storeBlankRows': True}],\n",
      "                   'license': '',\n",
      "                   'modified': '2020-04-14T20:37:24Z',\n",
      "                   'name': 'CoronaVirus_tweets',\n",
      "                   'rowCount': 998,\n",
      "                   'subject': '',\n",
      "                   'tags': [],\n",
      "                   'title': '',\n",
      "                   'version': ''},\n",
      " '2322112270947': {'contributors': '',\n",
      "                   'created': '2020-04-14T20:32:24Z',\n",
      "                   'creator': '',\n",
      "                   'customMetadata': {},\n",
      "                   'description': '',\n",
      "                   'homepage': '',\n",
      "                   'image': '',\n",
      "                   'license': '',\n",
      "                   'modified': '2020-04-14T01:44:48Z',\n",
      "                   'name': 'Untitled',\n",
      "                   'rowCount': 0,\n",
      "                   'subject': '',\n",
      "                   'tags': [],\n",
      "                   'title': '',\n",
      "                   'version': ''}}\n"
     ]
    }
   ],
   "source": [
    "# list project\n",
    "projects = refine.Refine(refine.RefineServer()).list_projects()\n",
    "print(type(projects))\n",
    "pprint(projects)"
   ]
  },
  {
   "cell_type": "code",
   "execution_count": 6,
   "metadata": {
    "pycharm": {
     "name": "#%%\n"
    }
   },
   "outputs": [
    {
     "name": "stdout",
     "output_type": "stream",
     "text": [
      "{'future': [{'description': 'Text transform on 1000 cells in column Author: '\n",
      "                            'value.trim()',\n",
      "             'id': 1586988418985,\n",
      "             'time': '2020-04-15T22:06:02Z'},\n",
      "            {'description': 'Create new column Author_Name based on column '\n",
      "                            'Author by filling 1000 rows with '\n",
      "                            \"grel:cells.Author.value+'-'+cells.Name.value\",\n",
      "             'id': 1586988520301,\n",
      "             'time': '2020-04-15T22:06:02Z'},\n",
      "            {'description': 'Text transform on 991 cells in column '\n",
      "                            'Author_Name: value.toLowercase()',\n",
      "             'id': 1586988853204,\n",
      "             'time': '2020-04-15T22:06:02Z'}],\n",
      " 'past': [{'description': 'Text transform on 1000 cells in column Date (CST): '\n",
      "                          'value.toDate()',\n",
      "           'id': 1586988827743,\n",
      "           'time': '2020-04-15T22:06:02Z'},\n",
      "          {'description': 'Text transform on 1000 cells in column Author: '\n",
      "                          'value.replace(\"@\",\" \")',\n",
      "           'id': 1586988628991,\n",
      "           'time': '2020-04-15T22:06:02Z'}]}\n",
      "[1586988827743, 1586988628991]\n"
     ]
    }
   ],
   "source": [
    "server = refine.RefineServer()\n",
    "projectID = 1596601650071\n",
    "refineop = Refineop(server,projectID)\n",
    "\n",
    "# list history (From internal package)\n",
    "# each operation changes will be assigned with a history id\n",
    "history_id = refineop.list_history()\n",
    "pprint(history_id)\n",
    "hid = [hid['id'] for hid in history_id['past']]\n",
    "print(hid)"
   ]
  },
  {
   "cell_type": "code",
   "execution_count": 8,
   "metadata": {},
   "outputs": [
    {
     "data": {
      "text/plain": [
       "True"
      ]
     },
     "execution_count": 8,
     "metadata": {},
     "output_type": "execute_result"
    }
   ],
   "source": [
    "# redo step 3: hid == \n",
    "refineop.undo_proj(lastDone_id = 1586988418985)"
   ]
  },
  {
   "cell_type": "code",
   "execution_count": 9,
   "metadata": {},
   "outputs": [
    {
     "name": "stdout",
     "output_type": "stream",
     "text": [
      "{'future': [{'description': 'Create new column Author_Name based on column '\n",
      "                            'Author by filling 1000 rows with '\n",
      "                            \"grel:cells.Author.value+'-'+cells.Name.value\",\n",
      "             'id': 1586988520301,\n",
      "             'time': '2020-04-15T22:06:02Z'},\n",
      "            {'description': 'Text transform on 991 cells in column '\n",
      "                            'Author_Name: value.toLowercase()',\n",
      "             'id': 1586988853204,\n",
      "             'time': '2020-04-15T22:06:02Z'}],\n",
      " 'past': [{'description': 'Text transform on 1000 cells in column Date (CST): '\n",
      "                          'value.toDate()',\n",
      "           'id': 1586988827743,\n",
      "           'time': '2020-04-15T22:06:02Z'},\n",
      "          {'description': 'Text transform on 1000 cells in column Author: '\n",
      "                          'value.replace(\"@\",\" \")',\n",
      "           'id': 1586988628991,\n",
      "           'time': '2020-04-15T22:06:02Z'},\n",
      "          {'description': 'Text transform on 1000 cells in column Author: '\n",
      "                          'value.trim()',\n",
      "           'id': 1586988418985,\n",
      "           'time': '2020-04-15T22:06:02Z'}]}\n"
     ]
    }
   ],
   "source": [
    "history_id = refineop.list_history()\n",
    "pprint(history_id)"
   ]
  },
  {
   "cell_type": "code",
   "execution_count": 10,
   "metadata": {
    "pycharm": {
     "name": "#%%\n"
    },
    "scrolled": true
   },
   "outputs": [
    {
     "name": "stdout",
     "output_type": "stream",
     "text": [
      "[{'columnName': 'Date (CST)',\n",
      "  'description': 'Text transform on cells in column Date (CST) using '\n",
      "                 'expression value.toDate()',\n",
      "  'engineConfig': {'facets': [], 'mode': 'row-based'},\n",
      "  'expression': 'value.toDate()',\n",
      "  'onError': 'keep-original',\n",
      "  'op': 'core/text-transform',\n",
      "  'repeat': False,\n",
      "  'repeatCount': 10},\n",
      " {'columnName': 'Author',\n",
      "  'description': 'Text transform on cells in column Author using expression '\n",
      "                 'value.replace(\"@\",\" \")',\n",
      "  'engineConfig': {'facets': [], 'mode': 'row-based'},\n",
      "  'expression': 'value.replace(\"@\",\" \")',\n",
      "  'onError': 'keep-original',\n",
      "  'op': 'core/text-transform',\n",
      "  'repeat': False,\n",
      "  'repeatCount': 10},\n",
      " {'columnName': 'Author',\n",
      "  'description': 'Text transform on cells in column Author using expression '\n",
      "                 'value.trim()',\n",
      "  'engineConfig': {'facets': [], 'mode': 'row-based'},\n",
      "  'expression': 'value.trim()',\n",
      "  'onError': 'keep-original',\n",
      "  'op': 'core/text-transform',\n",
      "  'repeat': False,\n",
      "  'repeatCount': 10}]\n"
     ]
    }
   ],
   "source": [
    "# list operation history \n",
    "operation_history = refineop.get_operations()\n",
    "pprint(operation_history)"
   ]
  },
  {
   "cell_type": "markdown",
   "metadata": {},
   "source": [
    "# Cell"
   ]
  },
  {
   "cell_type": "code",
   "execution_count": 11,
   "metadata": {
    "pycharm": {
     "name": "#%%\n"
    }
   },
   "outputs": [
    {
     "data": {
      "text/plain": [
       "{'code': 'ok',\n",
       " 'historyEntry': {'id': 1586988764246,\n",
       "  'description': 'Text transform on 976 cells in column Author: value.toUppercase()',\n",
       "  'time': '2020-04-15T22:06:33Z'}}"
      ]
     },
     "execution_count": 11,
     "metadata": {},
     "output_type": "execute_result"
    }
   ],
   "source": [
    "# text transform : column name, expression\n",
    "refineop.text_transform('Author',expression = 'value.toUppercase()')"
   ]
  },
  {
   "cell_type": "code",
   "execution_count": 12,
   "metadata": {
    "pycharm": {
     "name": "#%%\n"
    }
   },
   "outputs": [
    {
     "name": "stdout",
     "output_type": "stream",
     "text": [
      "[[{'value': 'United States of America', 'count': 187}, {'value': 'United States of @merica', 'count': 5}]]\n"
     ]
    },
    {
     "data": {
      "text/plain": [
       "{'code': 'ok',\n",
       " 'historyEntry': {'id': 1586989099980,\n",
       "  'description': 'Mass edit 192 cells in column Country',\n",
       "  'time': '2020-04-15T22:06:34Z'}}"
      ]
     },
     "execution_count": 12,
     "metadata": {},
     "output_type": "execute_result"
    }
   ],
   "source": [
    "from collections import OrderedDict\n",
    "# cluter and Edit \n",
    "# 1. compute clusters: return a list of clusters; \n",
    "#    params: column, clusterer_type='binning', function=None, params=None\n",
    "# 2. edits \n",
    "# mass_edit\n",
    "clusters = refineop.compute_clusters('Country', clusterer_type='knn', function='levenshtein')\n",
    "print(clusters)\n",
    "\n",
    "# choose cluster\n",
    "from_edit=refineop.getFromValue(clusters)\n",
    "to_edit=refineop.getToValue(clusters)\n",
    "default_edits=OrderedDict()\n",
    "default_edits['fromBlank']='false'\n",
    "default_edits['fromError']='false'\n",
    "for f1,t1 in zip(from_edit, to_edit):\n",
    "    default_edits['from']=f1\n",
    "    default_edits['to']=t1\n",
    "edits=[default_edits]\n",
    "# mass edit : column, edits\n",
    "refineop.mass_edit('Country', edits)"
   ]
  },
  {
   "cell_type": "code",
   "execution_count": 13,
   "metadata": {},
   "outputs": [
    {
     "name": "stdout",
     "output_type": "stream",
     "text": [
      "[{'columnName': 'Date (CST)',\n",
      "  'description': 'Text transform on cells in column Date (CST) using '\n",
      "                 'expression value.toDate()',\n",
      "  'engineConfig': {'facets': [], 'mode': 'row-based'},\n",
      "  'expression': 'value.toDate()',\n",
      "  'onError': 'keep-original',\n",
      "  'op': 'core/text-transform',\n",
      "  'repeat': False,\n",
      "  'repeatCount': 10},\n",
      " {'columnName': 'Author',\n",
      "  'description': 'Text transform on cells in column Author using expression '\n",
      "                 'value.replace(\"@\",\" \")',\n",
      "  'engineConfig': {'facets': [], 'mode': 'row-based'},\n",
      "  'expression': 'value.replace(\"@\",\" \")',\n",
      "  'onError': 'keep-original',\n",
      "  'op': 'core/text-transform',\n",
      "  'repeat': False,\n",
      "  'repeatCount': 10},\n",
      " {'columnName': 'Author',\n",
      "  'description': 'Text transform on cells in column Author using expression '\n",
      "                 'value.trim()',\n",
      "  'engineConfig': {'facets': [], 'mode': 'row-based'},\n",
      "  'expression': 'value.trim()',\n",
      "  'onError': 'keep-original',\n",
      "  'op': 'core/text-transform',\n",
      "  'repeat': False,\n",
      "  'repeatCount': 10},\n",
      " {'columnName': 'Author',\n",
      "  'description': 'Text transform on cells in column Author using expression '\n",
      "                 'value.toUppercase()',\n",
      "  'engineConfig': {'facets': [], 'mode': 'row-based'},\n",
      "  'expression': 'value.toUppercase()',\n",
      "  'onError': 'set-to-blank',\n",
      "  'op': 'core/text-transform',\n",
      "  'repeat': False,\n",
      "  'repeatCount': 10},\n",
      " {'columnName': 'Country',\n",
      "  'description': 'Mass edit cells in column Country',\n",
      "  'edits': [{'from': ['United States of America', 'United States of @merica'],\n",
      "             'fromBlank': False,\n",
      "             'fromError': False,\n",
      "             'to': 'United States of America'}],\n",
      "  'engineConfig': {'facets': [], 'mode': 'row-based'},\n",
      "  'expression': 'value',\n",
      "  'op': 'core/mass-edit'}]\n"
     ]
    }
   ],
   "source": [
    "pprint(refineop.get_operations())"
   ]
  },
  {
   "cell_type": "code",
   "execution_count": 14,
   "metadata": {},
   "outputs": [
    {
     "data": {
      "text/plain": [
       "{'code': 'ok',\n",
       " 'historyEntry': {'id': 1586988597880,\n",
       "  'description': 'Edit single cell on row 28, column Name',\n",
       "  'time': '2020-04-15T22:06:36Z'},\n",
       " 'cell': {'v': 'KIMBA707'},\n",
       " 'pool': {'recons': {}}}"
      ]
     },
     "execution_count": 14,
     "metadata": {},
     "output_type": "execute_result"
    }
   ],
   "source": [
    "# single edit (27,5) from (@KIMBA707) to (KIMBA707)\n",
    "# params: row, cell, type, value\n",
    "# is there any ops recorded?\n",
    "refineop.single_edit(27,5,'text','KIMBA707')"
   ]
  },
  {
   "cell_type": "markdown",
   "metadata": {},
   "source": [
    "# Column"
   ]
  },
  {
   "cell_type": "code",
   "execution_count": 15,
   "metadata": {
    "pycharm": {
     "name": "#%%\n"
    }
   },
   "outputs": [
    {
     "data": {
      "text/plain": [
       "{'code': 'ok',\n",
       " 'historyEntry': {'id': 1586988963126,\n",
       "  'description': 'Create new column Country_State based on column Country by filling 0 rows with cells.Country.value+cells.State.value',\n",
       "  'time': '2020-04-15T22:06:37Z'}}"
      ]
     },
     "execution_count": 15,
     "metadata": {},
     "output_type": "execute_result"
    }
   ],
   "source": [
    "# addition column\n",
    "# params: column, new_column, expression='value', column_insert_index=None\n",
    "# addition expression could be found https://github.com/OpenRefine/OpenRefine/wiki/Column-Editing\n",
    "refineop.add_column('Country','Country_State', expression='cells.Country.value+cells.State.value')"
   ]
  },
  {
   "cell_type": "code",
   "execution_count": 16,
   "metadata": {},
   "outputs": [
    {
     "data": {
      "text/plain": [
       "{'code': 'ok',\n",
       " 'historyEntry': {'id': 1586989274756,\n",
       "  'description': 'Split 1000 cell(s) in column Name into several columns by separator',\n",
       "  'time': '2020-04-15T22:06:38Z'}}"
      ]
     },
     "execution_count": 16,
     "metadata": {},
     "output_type": "execute_result"
    }
   ],
   "source": [
    "# split column\n",
    "# params: column, separator=','\n",
    "refineop.split_column('Name',' ')"
   ]
  },
  {
   "cell_type": "code",
   "execution_count": 17,
   "metadata": {},
   "outputs": [
    {
     "data": {
      "text/plain": [
       "{'code': 'ok',\n",
       " 'historyEntry': {'id': 1586988458941,\n",
       "  'description': 'Rename column Name 1 to FirstName',\n",
       "  'time': '2020-04-15T22:06:40Z'}}"
      ]
     },
     "execution_count": 17,
     "metadata": {},
     "output_type": "execute_result"
    }
   ],
   "source": [
    "# rename column\n",
    "# params: old column name, new column name\n",
    "refineop.rename_column('Name 1', 'FirstName')"
   ]
  },
  {
   "cell_type": "markdown",
   "metadata": {},
   "source": [
    "# Row level"
   ]
  },
  {
   "cell_type": "code",
   "execution_count": 20,
   "metadata": {
    "pycharm": {
     "name": "#%%\n"
    }
   },
   "outputs": [
    {
     "data": {
      "text/plain": [
       "{'code': 'ok',\n",
       " 'historyEntry': {'id': 1586988552080,\n",
       "  'description': 'Star row 3',\n",
       "  'time': '2020-04-15T22:07:16Z'}}"
      ]
     },
     "execution_count": 20,
     "metadata": {},
     "output_type": "execute_result"
    }
   ],
   "source": [
    "# Annotate row (star/flag)\n",
    "# row index, flagged:default='True'\n",
    "refineop.flag_row(1)\n",
    "refineop.star_row(2)"
   ]
  },
  {
   "cell_type": "code",
   "execution_count": null,
   "metadata": {},
   "outputs": [],
   "source": [
    "# apply operation history"
   ]
  }
 ],
 "metadata": {
  "kernelspec": {
   "display_name": "Python 3",
   "language": "python",
   "name": "python3"
  },
  "language_info": {
   "codemirror_mode": {
    "name": "ipython",
    "version": 3
   },
   "file_extension": ".py",
   "mimetype": "text/x-python",
   "name": "python",
   "nbconvert_exporter": "python",
   "pygments_lexer": "ipython3",
   "version": "3.8.2"
  },
  "pycharm": {
   "stem_cell": {
    "cell_type": "raw",
    "metadata": {
     "collapsed": false
    },
    "source": []
   }
  }
 },
 "nbformat": 4,
 "nbformat_minor": 1
}
