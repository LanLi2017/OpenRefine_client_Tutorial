{
 "cells": [
  {
   "cell_type": "markdown",
   "metadata": {},
   "source": [
    "# https://github.com/LanLi2017/OpenRefine_client_Tutorial#openrefine-python-client-library"
   ]
  },
  {
   "cell_type": "markdown",
   "metadata": {},
   "source": [
    "To ask for communicating with OpenRefine server.\n",
    "Notes:\n",
    "1. Ensure you have OpenRefine.[http://127.0.0.1:3333/] running \n",
    "2. Server and Project id are required for sending request to OpenRefine server.\n",
    "3. OR.py has encapsulated and extended functions based on OR-Client library .[https://github.com/LanLi2017/OpenRefineClientPy3] \n",
    "4. After applying each operation, a 'history id' will be generated and corresponding history meta-info will be Auto-stored in your local machine. You might check it from worksapce. \n",
    "5. update: crsf_token is needed when you send request, OpenRefine 3.3+\n",
    "6. Distinguish 'operation history' and 'history'\n",
    "7. Undo/Redo: if you want to undo some step, e.g step 3, apply the history id of previous step which is history id of step 2; if you want to redo some step, apply the history id of this step, which is history id of step 3.  "
   ]
  },
  {
   "cell_type": "code",
   "execution_count": 1,
   "metadata": {},
   "outputs": [],
   "source": [
    "from OpenRefineClientPy3.google_refine.refine import refine\n",
    "from OR import Refineop\n",
    "import pandas as pd\n",
    "import json\n",
    "from pprint import pprint"
   ]
  },
  {
   "cell_type": "markdown",
   "metadata": {},
   "source": [
    "# Project"
   ]
  },
  {
   "cell_type": "code",
   "execution_count": 2,
   "metadata": {},
   "outputs": [],
   "source": [
    "# use refine.py to directly connect with server\n",
    "projects = refine.Refine(refine.RefineServer()).list_projects()"
   ]
  },
  {
   "cell_type": "code",
   "execution_count": 3,
   "metadata": {
    "pycharm": {
     "name": "#%%\n"
    }
   },
   "outputs": [],
   "source": [
    "# use OR.py to connect with server \n",
    "# more functions supported, and refined outputs\n",
    "# Params: (server, project id)\n",
    "server = refine.RefineServer()\n",
    "projectID = 2014260363969\n",
    "refineop = Refineop(server,projectID)"
   ]
  },
  {
   "cell_type": "code",
   "execution_count": 4,
   "metadata": {},
   "outputs": [
    {
     "name": "stdout",
     "output_type": "stream",
     "text": [
      "{'future': [{'description': 'Text transform on 49 cells in column Posts: '\n",
      "                            'value.toNumber()',\n",
      "             'id': 1587412238868,\n",
      "             'time': '2020-04-20T19:47:19Z'},\n",
      "            {'description': 'Text transform on 0 cells in column Author_Name: '\n",
      "                            'value.toUppercase()',\n",
      "             'id': 1587412342560,\n",
      "             'time': '2020-04-20T19:47:58Z'}],\n",
      " 'past': [{'description': 'Text transform on 49 cells in column Date (CST): '\n",
      "                          'value.toDate()',\n",
      "           'id': 1587369173241,\n",
      "           'time': '2020-04-20T07:42:09Z'},\n",
      "          {'description': 'Text transform on 49 cells in column Author: '\n",
      "                          'value.replace(\"?\",\" \")',\n",
      "           'id': 1587412700412,\n",
      "           'time': '2020-04-20T19:42:46Z'},\n",
      "          {'description': 'Create new column Author_Name based on column '\n",
      "                          'Author by filling 49 rows with '\n",
      "                          \"grel:cells.Author.value+'-'+cells.Name.value\",\n",
      "           'id': 1587412583517,\n",
      "           'time': '2020-04-20T19:45:43Z'},\n",
      "          {'description': 'Text transform on 49 cells in column Author_Name: '\n",
      "                          'value.replace(\"#\",\" \")',\n",
      "           'id': 1587412161715,\n",
      "           'time': '2020-04-20T19:46:03Z'}]}\n",
      "[1587369173241, 1587412700412, 1587412583517, 1587412161715]\n"
     ]
    }
   ],
   "source": [
    "# List history (From internal package)\n",
    "# Output: 'past' stands for current operation history; 'future' stands for 'undo' part \n",
    "# Description+id+time: metadata for each data cleaning step\n",
    "history_id = refineop.list_history()\n",
    "pprint(history_id)\n",
    "hid = [hid['id'] for hid in history_id['past']]\n",
    "print(hid)"
   ]
  },
  {
   "cell_type": "code",
   "execution_count": 5,
   "metadata": {},
   "outputs": [
    {
     "data": {
      "text/plain": [
       "True"
      ]
     },
     "execution_count": 5,
     "metadata": {},
     "output_type": "execute_result"
    }
   ],
   "source": [
    "# Redo step 3: hid ==\n",
    "# Params: history id for step 2 (3-1)\n",
    "refinesever =refine.RefineServer()\n",
    "csrf_t = refinesever.get_csrf()['token']\n",
    "refineop.undo_redo_proj(lastDone_id = 1587412161715, token = csrf_t)"
   ]
  },
  {
   "cell_type": "code",
   "execution_count": 6,
   "metadata": {},
   "outputs": [
    {
     "name": "stdout",
     "output_type": "stream",
     "text": [
      "{'future': [{'description': 'Text transform on 49 cells in column Posts: '\n",
      "                            'value.toNumber()',\n",
      "             'id': 1587412238868,\n",
      "             'time': '2020-04-20T19:47:19Z'},\n",
      "            {'description': 'Text transform on 0 cells in column Author_Name: '\n",
      "                            'value.toUppercase()',\n",
      "             'id': 1587412342560,\n",
      "             'time': '2020-04-20T19:47:58Z'}],\n",
      " 'past': [{'description': 'Text transform on 49 cells in column Date (CST): '\n",
      "                          'value.toDate()',\n",
      "           'id': 1587369173241,\n",
      "           'time': '2020-04-20T07:42:09Z'},\n",
      "          {'description': 'Text transform on 49 cells in column Author: '\n",
      "                          'value.replace(\"?\",\" \")',\n",
      "           'id': 1587412700412,\n",
      "           'time': '2020-04-20T19:42:46Z'},\n",
      "          {'description': 'Create new column Author_Name based on column '\n",
      "                          'Author by filling 49 rows with '\n",
      "                          \"grel:cells.Author.value+'-'+cells.Name.value\",\n",
      "           'id': 1587412583517,\n",
      "           'time': '2020-04-20T19:45:43Z'},\n",
      "          {'description': 'Text transform on 49 cells in column Author_Name: '\n",
      "                          'value.replace(\"#\",\" \")',\n",
      "           'id': 1587412161715,\n",
      "           'time': '2020-04-20T19:46:03Z'}]}\n"
     ]
    }
   ],
   "source": [
    "# Check if we've successfully redo step 3\n",
    "# Return: past add up one step; future minus one step \n",
    "history_id = refineop.list_history()\n",
    "pprint(history_id)"
   ]
  },
  {
   "cell_type": "code",
   "execution_count": 7,
   "metadata": {
    "pycharm": {
     "name": "#%%\n"
    },
    "scrolled": true
   },
   "outputs": [
    {
     "name": "stdout",
     "output_type": "stream",
     "text": [
      "[{'columnName': 'Date (CST)',\n",
      "  'description': 'Text transform on cells in column Date (CST) using '\n",
      "                 'expression value.toDate()',\n",
      "  'engineConfig': {'facets': [], 'mode': 'row-based'},\n",
      "  'expression': 'value.toDate()',\n",
      "  'onError': 'keep-original',\n",
      "  'op': 'core/text-transform',\n",
      "  'repeat': False,\n",
      "  'repeatCount': 10},\n",
      " {'columnName': 'Author',\n",
      "  'description': 'Text transform on cells in column Author using expression '\n",
      "                 'value.replace(\"?\",\" \")',\n",
      "  'engineConfig': {'facets': [], 'mode': 'row-based'},\n",
      "  'expression': 'value.replace(\"?\",\" \")',\n",
      "  'onError': 'keep-original',\n",
      "  'op': 'core/text-transform',\n",
      "  'repeat': False,\n",
      "  'repeatCount': 10},\n",
      " {'baseColumnName': 'Author',\n",
      "  'columnInsertIndex': 5,\n",
      "  'description': 'Create column Author_Name at index 5 based on column Author '\n",
      "                 'using expression '\n",
      "                 \"grel:cells.Author.value+'-'+cells.Name.value\",\n",
      "  'engineConfig': {'facets': [], 'mode': 'row-based'},\n",
      "  'expression': \"grel:cells.Author.value+'-'+cells.Name.value\",\n",
      "  'newColumnName': 'Author_Name',\n",
      "  'onError': 'set-to-blank',\n",
      "  'op': 'core/column-addition'},\n",
      " {'columnName': 'Author_Name',\n",
      "  'description': 'Text transform on cells in column Author_Name using '\n",
      "                 'expression value.replace(\"#\",\" \")',\n",
      "  'engineConfig': {'facets': [], 'mode': 'row-based'},\n",
      "  'expression': 'value.replace(\"#\",\" \")',\n",
      "  'onError': 'keep-original',\n",
      "  'op': 'core/text-transform',\n",
      "  'repeat': False,\n",
      "  'repeatCount': 10}]\n"
     ]
    }
   ],
   "source": [
    "# List operation history \n",
    "operation_history = refineop.get_operations()\n",
    "pprint(operation_history)"
   ]
  },
  {
   "cell_type": "markdown",
   "metadata": {},
   "source": [
    "Difference between operation history and history!\n",
    "1. Content: operation history returns prospective provenance; history returns retrospective provenance\n",
    "2. Operation history only returns \"past\"; history returns \"past\" and \"future\""
   ]
  },
  {
   "cell_type": "markdown",
   "metadata": {},
   "source": [
    "# Facet"
   ]
  },
  {
   "cell_type": "code",
   "execution_count": null,
   "metadata": {},
   "outputs": [],
   "source": []
  },
  {
   "cell_type": "markdown",
   "metadata": {},
   "source": [
    "# Cell (Inner-Column)"
   ]
  },
  {
   "cell_type": "code",
   "execution_count": 8,
   "metadata": {
    "pycharm": {
     "name": "#%%\n"
    }
   },
   "outputs": [
    {
     "data": {
      "text/plain": [
       "{'historyEntry': {'id': 1605581715100,\n",
       "  'description': 'Text transform on 0 cells in column Author: value.toUppercase()',\n",
       "  'time': '2020-11-17T02:44:03Z'},\n",
       " 'code': 'ok'}"
      ]
     },
     "execution_count": 8,
     "metadata": {},
     "output_type": "execute_result"
    }
   ],
   "source": [
    "# Text Transform \n",
    "# Params: column name, expression, csrf required\n",
    "# Return: status, history\n",
    "\n",
    "refinesever =refine.RefineServer()\n",
    "csrf_t = refinesever.get_csrf()['token']\n",
    "\n",
    "refineop.text_transform('Author',expression = 'value.toUppercase()', token= csrf_t)"
   ]
  },
  {
   "cell_type": "code",
   "execution_count": 9,
   "metadata": {
    "pycharm": {
     "name": "#%%\n"
    }
   },
   "outputs": [
    {
     "name": "stdout",
     "output_type": "stream",
     "text": [
      "[]\n"
     ]
    },
    {
     "ename": "Exception",
     "evalue": "server error: Missing or invalid csrf_token parameter",
     "output_type": "error",
     "traceback": [
      "\u001b[0;31m---------------------------------------------------------------------------\u001b[0m",
      "\u001b[0;31mException\u001b[0m                                 Traceback (most recent call last)",
      "\u001b[0;32m<ipython-input-9-3ef195cc8a5a>\u001b[0m in \u001b[0;36m<module>\u001b[0;34m\u001b[0m\n\u001b[1;32m     21\u001b[0m \u001b[0medits\u001b[0m\u001b[0;34m=\u001b[0m\u001b[0;34m[\u001b[0m\u001b[0mdefault_edits\u001b[0m\u001b[0;34m]\u001b[0m\u001b[0;34m\u001b[0m\u001b[0;34m\u001b[0m\u001b[0m\n\u001b[1;32m     22\u001b[0m \u001b[0;31m# mass edit : column, edits\u001b[0m\u001b[0;34m\u001b[0m\u001b[0;34m\u001b[0m\u001b[0;34m\u001b[0m\u001b[0m\n\u001b[0;32m---> 23\u001b[0;31m \u001b[0mrefineop\u001b[0m\u001b[0;34m.\u001b[0m\u001b[0mmass_edit\u001b[0m\u001b[0;34m(\u001b[0m\u001b[0;34m'Country'\u001b[0m\u001b[0;34m,\u001b[0m \u001b[0medits\u001b[0m\u001b[0;34m)\u001b[0m\u001b[0;34m\u001b[0m\u001b[0;34m\u001b[0m\u001b[0m\n\u001b[0m",
      "\u001b[0;32m~/OpenRefine_client_Tutorial/OR.py\u001b[0m in \u001b[0;36mmass_edit\u001b[0;34m(self, column, edits, expression)\u001b[0m\n\u001b[1;32m    132\u001b[0m \u001b[0;34m\u001b[0m\u001b[0m\n\u001b[1;32m    133\u001b[0m     \u001b[0;32mdef\u001b[0m \u001b[0mmass_edit\u001b[0m\u001b[0;34m(\u001b[0m\u001b[0mself\u001b[0m\u001b[0;34m,\u001b[0m \u001b[0mcolumn\u001b[0m\u001b[0;34m,\u001b[0m \u001b[0medits\u001b[0m\u001b[0;34m,\u001b[0m \u001b[0mexpression\u001b[0m\u001b[0;34m=\u001b[0m\u001b[0;34m'value'\u001b[0m\u001b[0;34m)\u001b[0m\u001b[0;34m:\u001b[0m\u001b[0;34m\u001b[0m\u001b[0;34m\u001b[0m\u001b[0m\n\u001b[0;32m--> 134\u001b[0;31m         \u001b[0;32mreturn\u001b[0m \u001b[0msuper\u001b[0m\u001b[0;34m(\u001b[0m\u001b[0;34m)\u001b[0m\u001b[0;34m.\u001b[0m\u001b[0mmass_edit\u001b[0m\u001b[0;34m(\u001b[0m\u001b[0mcolumn\u001b[0m\u001b[0;34m,\u001b[0m \u001b[0medits\u001b[0m\u001b[0;34m,\u001b[0m \u001b[0mexpression\u001b[0m\u001b[0;34m)\u001b[0m\u001b[0;34m\u001b[0m\u001b[0;34m\u001b[0m\u001b[0m\n\u001b[0m\u001b[1;32m    135\u001b[0m \u001b[0;34m\u001b[0m\u001b[0m\n\u001b[1;32m    136\u001b[0m     \u001b[0;32mdef\u001b[0m \u001b[0msingle_edit\u001b[0m\u001b[0;34m(\u001b[0m\u001b[0mself\u001b[0m\u001b[0;34m,\u001b[0m \u001b[0mrow\u001b[0m\u001b[0;34m,\u001b[0m \u001b[0mcell\u001b[0m\u001b[0;34m,\u001b[0m \u001b[0mtype\u001b[0m\u001b[0;34m,\u001b[0m \u001b[0mvalue\u001b[0m\u001b[0;34m)\u001b[0m\u001b[0;34m:\u001b[0m\u001b[0;34m\u001b[0m\u001b[0;34m\u001b[0m\u001b[0m\n",
      "\u001b[0;32m~/OpenRefine_client_Tutorial/OpenRefineClientPy3/google_refine/refine/refine.py\u001b[0m in \u001b[0;36mmass_edit\u001b[0;34m(self, column, edits, expression)\u001b[0m\n\u001b[1;32m    648\u001b[0m         \u001b[0medits\u001b[0m \u001b[0;34m=\u001b[0m \u001b[0mjson\u001b[0m\u001b[0;34m.\u001b[0m\u001b[0mdumps\u001b[0m\u001b[0;34m(\u001b[0m\u001b[0medits\u001b[0m\u001b[0;34m)\u001b[0m\u001b[0;34m\u001b[0m\u001b[0;34m\u001b[0m\u001b[0m\n\u001b[1;32m    649\u001b[0m         response = self.do_json('mass-edit', {\n\u001b[0;32m--> 650\u001b[0;31m             'columnName': column, 'expression': expression, 'edits': edits})\n\u001b[0m\u001b[1;32m    651\u001b[0m         \u001b[0;32mreturn\u001b[0m \u001b[0mresponse\u001b[0m\u001b[0;34m\u001b[0m\u001b[0;34m\u001b[0m\u001b[0m\n\u001b[1;32m    652\u001b[0m \u001b[0;34m\u001b[0m\u001b[0m\n",
      "\u001b[0;32m~/OpenRefine_client_Tutorial/OR.py\u001b[0m in \u001b[0;36mdo_json\u001b[0;34m(self, command, data, include_engine)\u001b[0m\n\u001b[1;32m     26\u001b[0m \u001b[0;34m\u001b[0m\u001b[0m\n\u001b[1;32m     27\u001b[0m     \u001b[0;32mdef\u001b[0m \u001b[0mdo_json\u001b[0m\u001b[0;34m(\u001b[0m\u001b[0mself\u001b[0m\u001b[0;34m,\u001b[0m \u001b[0mcommand\u001b[0m\u001b[0;34m,\u001b[0m \u001b[0mdata\u001b[0m\u001b[0;34m=\u001b[0m\u001b[0;32mNone\u001b[0m\u001b[0;34m,\u001b[0m \u001b[0minclude_engine\u001b[0m\u001b[0;34m=\u001b[0m\u001b[0;32mTrue\u001b[0m\u001b[0;34m)\u001b[0m\u001b[0;34m:\u001b[0m\u001b[0;34m\u001b[0m\u001b[0;34m\u001b[0m\u001b[0m\n\u001b[0;32m---> 28\u001b[0;31m         \u001b[0;32mreturn\u001b[0m \u001b[0msuper\u001b[0m\u001b[0;34m(\u001b[0m\u001b[0;34m)\u001b[0m\u001b[0;34m.\u001b[0m\u001b[0mdo_json\u001b[0m\u001b[0;34m(\u001b[0m\u001b[0mcommand\u001b[0m\u001b[0;34m,\u001b[0m \u001b[0mdata\u001b[0m\u001b[0;34m)\u001b[0m\u001b[0;34m\u001b[0m\u001b[0;34m\u001b[0m\u001b[0m\n\u001b[0m\u001b[1;32m     29\u001b[0m \u001b[0;34m\u001b[0m\u001b[0m\n\u001b[1;32m     30\u001b[0m     \u001b[0;32mdef\u001b[0m \u001b[0mdo_raw\u001b[0m\u001b[0;34m(\u001b[0m\u001b[0mself\u001b[0m\u001b[0;34m,\u001b[0m\u001b[0mcommand\u001b[0m\u001b[0;34m,\u001b[0m \u001b[0mdata\u001b[0m\u001b[0;34m)\u001b[0m\u001b[0;34m:\u001b[0m\u001b[0;34m\u001b[0m\u001b[0;34m\u001b[0m\u001b[0m\n",
      "\u001b[0;32m~/OpenRefine_client_Tutorial/OpenRefineClientPy3/google_refine/refine/refine.py\u001b[0m in \u001b[0;36mdo_json\u001b[0;34m(self, command, data, include_engine)\u001b[0m\n\u001b[1;32m    478\u001b[0m                 \u001b[0mdata\u001b[0m \u001b[0;34m=\u001b[0m \u001b[0;34m{\u001b[0m\u001b[0;34m}\u001b[0m\u001b[0;34m\u001b[0m\u001b[0;34m\u001b[0m\u001b[0m\n\u001b[1;32m    479\u001b[0m             \u001b[0mdata\u001b[0m\u001b[0;34m[\u001b[0m\u001b[0;34m'engine'\u001b[0m\u001b[0;34m]\u001b[0m \u001b[0;34m=\u001b[0m \u001b[0mself\u001b[0m\u001b[0;34m.\u001b[0m\u001b[0mengine\u001b[0m\u001b[0;34m.\u001b[0m\u001b[0mas_json\u001b[0m\u001b[0;34m(\u001b[0m\u001b[0;34m)\u001b[0m\u001b[0;34m\u001b[0m\u001b[0;34m\u001b[0m\u001b[0m\n\u001b[0;32m--> 480\u001b[0;31m         \u001b[0mresponse\u001b[0m \u001b[0;34m=\u001b[0m \u001b[0mself\u001b[0m\u001b[0;34m.\u001b[0m\u001b[0mserver\u001b[0m\u001b[0;34m.\u001b[0m\u001b[0murlopen_json\u001b[0m\u001b[0;34m(\u001b[0m\u001b[0mcommand\u001b[0m\u001b[0;34m,\u001b[0m \u001b[0mproject_id\u001b[0m\u001b[0;34m=\u001b[0m\u001b[0mself\u001b[0m\u001b[0;34m.\u001b[0m\u001b[0mproject_id\u001b[0m\u001b[0;34m,\u001b[0m \u001b[0mdata\u001b[0m\u001b[0;34m=\u001b[0m\u001b[0mdata\u001b[0m\u001b[0;34m)\u001b[0m\u001b[0;34m\u001b[0m\u001b[0;34m\u001b[0m\u001b[0m\n\u001b[0m\u001b[1;32m    481\u001b[0m         \u001b[0;32mif\u001b[0m \u001b[0;34m'historyEntry'\u001b[0m \u001b[0;32min\u001b[0m \u001b[0mresponse\u001b[0m\u001b[0;34m:\u001b[0m\u001b[0;34m\u001b[0m\u001b[0;34m\u001b[0m\u001b[0m\n\u001b[1;32m    482\u001b[0m             \u001b[0;31m# **response['historyEntry'] won't work as keys are unicode :-/\u001b[0m\u001b[0;34m\u001b[0m\u001b[0;34m\u001b[0m\u001b[0;34m\u001b[0m\u001b[0m\n",
      "\u001b[0;32m~/OpenRefine_client_Tutorial/OpenRefineClientPy3/google_refine/refine/refine.py\u001b[0m in \u001b[0;36murlopen_json\u001b[0;34m(self, *args, **kwargs)\u001b[0m\n\u001b[1;32m    113\u001b[0m                     \u001b[0;32mor\u001b[0m \u001b[0mstr\u001b[0m\u001b[0;34m(\u001b[0m\u001b[0mresponse\u001b[0m\u001b[0;34m)\u001b[0m\u001b[0;34m\u001b[0m\u001b[0;34m\u001b[0m\u001b[0m\n\u001b[1;32m    114\u001b[0m             )\n\u001b[0;32m--> 115\u001b[0;31m             \u001b[0;32mraise\u001b[0m \u001b[0mException\u001b[0m\u001b[0;34m(\u001b[0m\u001b[0merror_message\u001b[0m\u001b[0;34m)\u001b[0m\u001b[0;34m\u001b[0m\u001b[0;34m\u001b[0m\u001b[0m\n\u001b[0m\u001b[1;32m    116\u001b[0m         \u001b[0;32mreturn\u001b[0m \u001b[0mresponse\u001b[0m\u001b[0;34m\u001b[0m\u001b[0;34m\u001b[0m\u001b[0m\n\u001b[1;32m    117\u001b[0m \u001b[0;34m\u001b[0m\u001b[0m\n",
      "\u001b[0;31mException\u001b[0m: server error: Missing or invalid csrf_token parameter"
     ]
    }
   ],
   "source": [
    "from collections import OrderedDict\n",
    "# Cluter and Edit \n",
    "# 1. compute clusters: return a list of clusters; \n",
    "#    params: column, clusterer_type='binning', function=None, params=None\n",
    "# Mass_edit\n",
    "# 2. apply (edits_from, edits_to) \n",
    "# Return: status, history\n",
    "\n",
    "clusters = refineop.compute_clusters('Country', clusterer_type='binning', function='fingerprint')\n",
    "print(clusters)\n",
    "\n",
    "# choose cluster\n",
    "from_edit=refineop.getFromValue(clusters)\n",
    "to_edit=refineop.getToValue(clusters)\n",
    "default_edits=OrderedDict()\n",
    "default_edits['fromBlank']='false'\n",
    "default_edits['fromError']='false'\n",
    "for f1,t1 in zip(from_edit, to_edit):\n",
    "    default_edits['from']=f1\n",
    "    default_edits['to']=t1\n",
    "edits=[default_edits]\n",
    "# mass edit : column, edits\n",
    "refineop.mass_edit('Country', edits)"
   ]
  },
  {
   "cell_type": "code",
   "execution_count": 17,
   "metadata": {},
   "outputs": [
    {
     "name": "stdout",
     "output_type": "stream",
     "text": [
      "[{'columnName': 'Date (CST)',\n",
      "  'description': 'Text transform on cells in column Date (CST) using '\n",
      "                 'expression value.toDate()',\n",
      "  'engineConfig': {'facets': [], 'mode': 'row-based'},\n",
      "  'expression': 'value.toDate()',\n",
      "  'onError': 'keep-original',\n",
      "  'op': 'core/text-transform',\n",
      "  'repeat': False,\n",
      "  'repeatCount': 10},\n",
      " {'columnName': 'Author',\n",
      "  'description': 'Text transform on cells in column Author using expression '\n",
      "                 'value.replace(\"@\",\" \")',\n",
      "  'engineConfig': {'facets': [], 'mode': 'row-based'},\n",
      "  'expression': 'value.replace(\"@\",\" \")',\n",
      "  'onError': 'keep-original',\n",
      "  'op': 'core/text-transform',\n",
      "  'repeat': False,\n",
      "  'repeatCount': 10},\n",
      " {'columnName': 'Author',\n",
      "  'description': 'Text transform on cells in column Author using expression '\n",
      "                 'value.trim()',\n",
      "  'engineConfig': {'facets': [], 'mode': 'row-based'},\n",
      "  'expression': 'value.trim()',\n",
      "  'onError': 'keep-original',\n",
      "  'op': 'core/text-transform',\n",
      "  'repeat': False,\n",
      "  'repeatCount': 10},\n",
      " {'columnName': 'Author',\n",
      "  'description': 'Text transform on cells in column Author using expression '\n",
      "                 'value.toUppercase()',\n",
      "  'engineConfig': {'facets': [], 'mode': 'row-based'},\n",
      "  'expression': 'value.toUppercase()',\n",
      "  'onError': 'set-to-blank',\n",
      "  'op': 'core/text-transform',\n",
      "  'repeat': False,\n",
      "  'repeatCount': 10},\n",
      " {'columnName': 'Country',\n",
      "  'description': 'Mass edit cells in column Country',\n",
      "  'edits': [{'from': ['US', 'US '],\n",
      "             'fromBlank': False,\n",
      "             'fromError': False,\n",
      "             'to': 'US'}],\n",
      "  'engineConfig': {'facets': [], 'mode': 'row-based'},\n",
      "  'expression': 'value',\n",
      "  'op': 'core/mass-edit'}]\n"
     ]
    }
   ],
   "source": [
    "# Check operation history\n",
    "pprint(refineop.get_operations())"
   ]
  },
  {
   "cell_type": "code",
   "execution_count": 18,
   "metadata": {},
   "outputs": [
    {
     "data": {
      "text/plain": [
       "{'code': 'ok',\n",
       " 'historyEntry': {'id': 1587681736726,\n",
       "  'description': 'Edit single cell on row 28, column Name',\n",
       "  'time': '2020-04-23T22:26:16Z'},\n",
       " 'cell': {'v': 'KIMBA707'},\n",
       " 'pool': {'recons': {}}}"
      ]
     },
     "execution_count": 18,
     "metadata": {},
     "output_type": "execute_result"
    }
   ],
   "source": [
    "# Single edit (27,5) from (@KIMBA707) to (KIMBA707)\n",
    "# Params: row, cell, type, value\n",
    "# is there any ops recorded?\n",
    "refineop.single_edit(27,5,'text','KIMBA707')"
   ]
  },
  {
   "cell_type": "code",
   "execution_count": 19,
   "metadata": {},
   "outputs": [
    {
     "name": "stdout",
     "output_type": "stream",
     "text": [
      "{'future': [],\n",
      " 'past': [{'description': 'Text transform on 1000 cells in column Date (CST): '\n",
      "                          'value.toDate()',\n",
      "           'id': 1587318240278,\n",
      "           'time': '2020-04-19T17:38:16Z'},\n",
      "          {'description': 'Text transform on 1000 cells in column Author: '\n",
      "                          'value.replace(\"@\",\" \")',\n",
      "           'id': 1587318248763,\n",
      "           'time': '2020-04-19T17:38:16Z'},\n",
      "          {'description': 'Text transform on 1000 cells in column Author: '\n",
      "                          'value.trim()',\n",
      "           'id': 1587318074136,\n",
      "           'time': '2020-04-19T17:38:16Z'},\n",
      "          {'description': 'Text transform on 976 cells in column Author: '\n",
      "                          'value.toUppercase()',\n",
      "           'id': 1587681004170,\n",
      "           'time': '2020-04-23T22:23:42Z'},\n",
      "          {'description': 'Mass edit 2 cells in column Country',\n",
      "           'id': 1587680789392,\n",
      "           'time': '2020-04-23T22:25:06Z'},\n",
      "          {'description': 'Edit single cell on row 28, column Name',\n",
      "           'id': 1587681736726,\n",
      "           'time': '2020-04-23T22:26:16Z'}]}\n"
     ]
    }
   ],
   "source": [
    "# Check history \n",
    "\n",
    "cur_history = refineop.list_history()\n",
    "pprint(cur_history)"
   ]
  },
  {
   "cell_type": "code",
   "execution_count": 20,
   "metadata": {},
   "outputs": [
    {
     "name": "stdout",
     "output_type": "stream",
     "text": [
      "[{'columnName': 'Date (CST)',\n",
      "  'description': 'Text transform on cells in column Date (CST) using '\n",
      "                 'expression value.toDate()',\n",
      "  'engineConfig': {'facets': [], 'mode': 'row-based'},\n",
      "  'expression': 'value.toDate()',\n",
      "  'onError': 'keep-original',\n",
      "  'op': 'core/text-transform',\n",
      "  'repeat': False,\n",
      "  'repeatCount': 10},\n",
      " {'columnName': 'Author',\n",
      "  'description': 'Text transform on cells in column Author using expression '\n",
      "                 'value.replace(\"@\",\" \")',\n",
      "  'engineConfig': {'facets': [], 'mode': 'row-based'},\n",
      "  'expression': 'value.replace(\"@\",\" \")',\n",
      "  'onError': 'keep-original',\n",
      "  'op': 'core/text-transform',\n",
      "  'repeat': False,\n",
      "  'repeatCount': 10},\n",
      " {'columnName': 'Author',\n",
      "  'description': 'Text transform on cells in column Author using expression '\n",
      "                 'value.trim()',\n",
      "  'engineConfig': {'facets': [], 'mode': 'row-based'},\n",
      "  'expression': 'value.trim()',\n",
      "  'onError': 'keep-original',\n",
      "  'op': 'core/text-transform',\n",
      "  'repeat': False,\n",
      "  'repeatCount': 10},\n",
      " {'columnName': 'Author',\n",
      "  'description': 'Text transform on cells in column Author using expression '\n",
      "                 'value.toUppercase()',\n",
      "  'engineConfig': {'facets': [], 'mode': 'row-based'},\n",
      "  'expression': 'value.toUppercase()',\n",
      "  'onError': 'set-to-blank',\n",
      "  'op': 'core/text-transform',\n",
      "  'repeat': False,\n",
      "  'repeatCount': 10},\n",
      " {'columnName': 'Country',\n",
      "  'description': 'Mass edit cells in column Country',\n",
      "  'edits': [{'from': ['US', 'US '],\n",
      "             'fromBlank': False,\n",
      "             'fromError': False,\n",
      "             'to': 'US'}],\n",
      "  'engineConfig': {'facets': [], 'mode': 'row-based'},\n",
      "  'expression': 'value',\n",
      "  'op': 'core/mass-edit'},\n",
      " {'description': 'Edit single cell on row 28, column Name'}]\n"
     ]
    }
   ],
   "source": [
    "# Check operation history\n",
    "pprint(refineop.get_operations())"
   ]
  },
  {
   "cell_type": "markdown",
   "metadata": {},
   "source": [
    "Difference between Operation History at client end and Operation History at server end"
   ]
  },
  {
   "cell_type": "markdown",
   "metadata": {},
   "source": [
    "# Column"
   ]
  },
  {
   "cell_type": "code",
   "execution_count": 21,
   "metadata": {
    "pycharm": {
     "name": "#%%\n"
    }
   },
   "outputs": [
    {
     "data": {
      "text/plain": [
       "{'code': 'ok',\n",
       " 'historyEntry': {'id': 1587681471431,\n",
       "  'description': 'Create new column Country_State based on column Country by filling 0 rows with cells.Country.value+cells.State.value',\n",
       "  'time': '2020-04-23T22:27:56Z'}}"
      ]
     },
     "execution_count": 21,
     "metadata": {},
     "output_type": "execute_result"
    }
   ],
   "source": [
    "# Addition Column\n",
    "# Params: column, new_column, expression='value', column_insert_index=None\n",
    "# Addition expression could be found https://github.com/OpenRefine/OpenRefine/wiki/Column-Editing\n",
    "refineop.add_column('Country','Country_State', expression='cells.Country.value+cells.State.value')"
   ]
  },
  {
   "cell_type": "code",
   "execution_count": 22,
   "metadata": {},
   "outputs": [
    {
     "data": {
      "text/plain": [
       "{'code': 'ok',\n",
       " 'historyEntry': {'id': 1587681204166,\n",
       "  'description': 'Split 1000 cell(s) in column Name into several columns by separator',\n",
       "  'time': '2020-04-23T22:28:18Z'}}"
      ]
     },
     "execution_count": 22,
     "metadata": {},
     "output_type": "execute_result"
    }
   ],
   "source": [
    "# Split Column\n",
    "# Params: column, separator=','\n",
    "refineop.split_column('Name',' ')"
   ]
  },
  {
   "cell_type": "code",
   "execution_count": 23,
   "metadata": {},
   "outputs": [
    {
     "data": {
      "text/plain": [
       "{'code': 'ok',\n",
       " 'historyEntry': {'id': 1587681205870,\n",
       "  'description': 'Rename column Name 1 to FirstName',\n",
       "  'time': '2020-04-23T22:28:31Z'}}"
      ]
     },
     "execution_count": 23,
     "metadata": {},
     "output_type": "execute_result"
    }
   ],
   "source": [
    "# Rename Column\n",
    "# Params: old column name, new column name\n",
    "refineop.rename_column('Name 1', 'FirstName')"
   ]
  },
  {
   "cell_type": "markdown",
   "metadata": {},
   "source": [
    "# Row level"
   ]
  },
  {
   "cell_type": "code",
   "execution_count": 24,
   "metadata": {
    "pycharm": {
     "name": "#%%\n"
    }
   },
   "outputs": [
    {
     "data": {
      "text/plain": [
       "{'code': 'ok',\n",
       " 'historyEntry': {'id': 1587681004243,\n",
       "  'description': 'Star row 3',\n",
       "  'time': '2020-04-23T22:28:44Z'}}"
      ]
     },
     "execution_count": 24,
     "metadata": {},
     "output_type": "execute_result"
    }
   ],
   "source": [
    "# Annotate Row (star/flag)\n",
    "# Row index, flagged:default='True'\n",
    "refineop.flag_row(1)\n",
    "refineop.star_row(2)"
   ]
  },
  {
   "cell_type": "markdown",
   "metadata": {
    "pycharm": {
     "name": "#%% md\n"
    }
   },
   "source": [
    "# Download Operation History "
   ]
  },
  {
   "cell_type": "code",
   "execution_count": 25,
   "metadata": {
    "pycharm": {
     "name": "#%%\n"
    }
   },
   "outputs": [],
   "source": [
    "# Load operation history\n",
    "# Params: load file name\n",
    "# Return: auto load operation history in your local machine\n",
    "file_name = 'load_recipe'\n",
    "refineop.load_ops(file_name)"
   ]
  },
  {
   "cell_type": "markdown",
   "metadata": {
    "pycharm": {
     "name": "#%% md\n"
    }
   },
   "source": [
    "# Download Cleaned Dataset"
   ]
  },
  {
   "cell_type": "code",
   "execution_count": 26,
   "metadata": {
    "pycharm": {
     "name": "#%%\n"
    }
   },
   "outputs": [],
   "source": [
    "# Load cleaned dataset\n",
    "# params: file name\n",
    "# return: auto load dataset in your local machine\n",
    "filename = 'CleanedData.csv'\n",
    "refineop.load_data(filename)"
   ]
  },
  {
   "cell_type": "markdown",
   "metadata": {
    "pycharm": {
     "name": "#%%\n"
    }
   },
   "source": [
    "check https://github.com/tmcphillips/openrefine-provenance/blob/master/models/openrefine%20data%20and%20project%20model.md for OpenRefine taxonomy in OpenRefine"
   ]
  },
  {
   "cell_type": "code",
   "execution_count": 21,
   "metadata": {
    "pycharm": {
     "name": "#%%\n"
    }
   },
   "outputs": [],
   "source": []
  },
  {
   "cell_type": "code",
   "execution_count": null,
   "metadata": {
    "pycharm": {
     "name": "#%%\n"
    }
   },
   "outputs": [],
   "source": []
  },
  {
   "cell_type": "code",
   "execution_count": null,
   "metadata": {
    "pycharm": {
     "name": "#%%\n"
    }
   },
   "outputs": [],
   "source": []
  },
  {
   "cell_type": "code",
   "execution_count": null,
   "metadata": {
    "pycharm": {
     "name": "#%%\n"
    }
   },
   "outputs": [],
   "source": []
  },
  {
   "cell_type": "code",
   "execution_count": null,
   "metadata": {
    "pycharm": {
     "name": "#%%\n"
    }
   },
   "outputs": [],
   "source": []
  },
  {
   "cell_type": "code",
   "execution_count": null,
   "metadata": {
    "pycharm": {
     "name": "#%%\n"
    }
   },
   "outputs": [],
   "source": []
  },
  {
   "cell_type": "code",
   "execution_count": null,
   "metadata": {
    "pycharm": {
     "name": "#%%\n"
    }
   },
   "outputs": [],
   "source": []
  },
  {
   "cell_type": "code",
   "execution_count": null,
   "metadata": {
    "pycharm": {
     "name": "#%%\n"
    }
   },
   "outputs": [],
   "source": []
  },
  {
   "cell_type": "code",
   "execution_count": null,
   "metadata": {
    "pycharm": {
     "name": "#%%\n"
    }
   },
   "outputs": [],
   "source": []
  },
  {
   "cell_type": "code",
   "execution_count": null,
   "metadata": {
    "pycharm": {
     "name": "#%%\n"
    }
   },
   "outputs": [],
   "source": []
  },
  {
   "cell_type": "code",
   "execution_count": null,
   "metadata": {
    "pycharm": {
     "name": "#%%\n"
    }
   },
   "outputs": [],
   "source": []
  },
  {
   "cell_type": "code",
   "execution_count": null,
   "metadata": {},
   "outputs": [],
   "source": []
  },
  {
   "cell_type": "code",
   "execution_count": null,
   "metadata": {},
   "outputs": [],
   "source": []
  }
 ],
 "metadata": {
  "kernelspec": {
   "display_name": "Python 3",
   "language": "python",
   "name": "python3"
  },
  "language_info": {
   "codemirror_mode": {
    "name": "ipython",
    "version": 3
   },
   "file_extension": ".py",
   "mimetype": "text/x-python",
   "name": "python",
   "nbconvert_exporter": "python",
   "pygments_lexer": "ipython3",
   "version": "3.7.7"
  },
  "pycharm": {
   "stem_cell": {
    "cell_type": "raw",
    "metadata": {
     "collapsed": false
    },
    "source": []
   }
  }
 },
 "nbformat": 4,
 "nbformat_minor": 1
}
