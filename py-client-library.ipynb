{
 "cells": [
  {
   "cell_type": "markdown",
   "metadata": {},
   "source": [
    "# https://github.com/LanLi2017/OpenRefine_client_Tutorial#openrefine-python-client-library"
   ]
  },
  {
   "cell_type": "markdown",
   "metadata": {},
   "source": [
    "To ask for communicating with OpenRefine server.\n",
    "Notes:\n",
    "1. Ensure you have OpenRefine.[http://127.0.0.1:3333/] running \n",
    "2. Server and Project id are required for sending request to OpenRefine server.\n",
    "3. OR.py has encapsulated functions from OR-Client library .[https://github.com/LanLi2017/OpenRefineClientPy3] we don't need to send (server,project id) every time again and again. \n",
    "4. After applying each operation, a 'history id' will be generated and corresponding history meta-info will be Auto-stored in your local machine. You might check it from worksapce. \n",
    "5. Distinguish 'operation history' and 'history'\n",
    "6. Undo/Redo: if you want to undo some step, e.g step 3, apply the history id of previous step which is history id of step 2; if you want to redo some step, apply the history id of this step, which is history id of step 3.  "
   ]
  },
  {
   "cell_type": "code",
   "execution_count": 6,
   "metadata": {},
   "outputs": [],
   "source": [
    "from OpenRefineClientPy3.google_refine.refine import refine\n",
    "from OR import Refineop\n",
    "import pandas as pd\n",
    "import json\n",
    "from pprint import pprint"
   ]
  },
  {
   "cell_type": "markdown",
   "metadata": {},
   "source": [
    "# Project"
   ]
  },
  {
   "cell_type": "code",
   "execution_count": 7,
   "metadata": {
    "pycharm": {
     "name": "#%%\n"
    }
   },
   "outputs": [
    {
     "name": "stdout",
     "output_type": "stream",
     "text": [
      "<class 'dict'>\n",
      "{'1596601650071': {'contributors': '',\n",
      "                   'created': '2020-04-23T16:00:00Z',\n",
      "                   'creator': '',\n",
      "                   'customMetadata': {},\n",
      "                   'description': '',\n",
      "                   'homepage': '',\n",
      "                   'image': '',\n",
      "                   'importOptionMetadata': [{'encoding': '',\n",
      "                                             'fileSource': 'CoronaVirus_tweets.csv',\n",
      "                                             'guessCellValueTypes': False,\n",
      "                                             'headerLines': 1,\n",
      "                                             'ignoreLines': -1,\n",
      "                                             'includeFileSources': False,\n",
      "                                             'limit': -1,\n",
      "                                             'processQuotes': True,\n",
      "                                             'projectName': 'tweet',\n",
      "                                             'projectTags': [''],\n",
      "                                             'quoteCharacter': '\"',\n",
      "                                             'separator': ',',\n",
      "                                             'skipDataLines': 0,\n",
      "                                             'storeBlankCellsAsNulls': True,\n",
      "                                             'storeBlankRows': True}],\n",
      "                   'license': '',\n",
      "                   'modified': '2020-04-23T22:17:38Z',\n",
      "                   'name': 'or_client_demo',\n",
      "                   'rowCount': 1000,\n",
      "                   'subject': '',\n",
      "                   'tags': [],\n",
      "                   'title': '',\n",
      "                   'version': ''},\n",
      " '1943681426967': {'contributors': '',\n",
      "                   'created': '2020-04-23T16:00:00Z',\n",
      "                   'creator': '',\n",
      "                   'customMetadata': {},\n",
      "                   'description': '',\n",
      "                   'homepage': '',\n",
      "                   'image': '',\n",
      "                   'importOptionMetadata': [{'encoding': '',\n",
      "                                             'fileSource': 'tag.csv',\n",
      "                                             'guessCellValueTypes': False,\n",
      "                                             'headerLines': 1,\n",
      "                                             'ignoreLines': -1,\n",
      "                                             'includeFileSources': False,\n",
      "                                             'limit': -1,\n",
      "                                             'processQuotes': True,\n",
      "                                             'projectName': 'tag',\n",
      "                                             'projectTags': [''],\n",
      "                                             'quoteCharacter': '\"',\n",
      "                                             'separator': ',',\n",
      "                                             'skipDataLines': 0,\n",
      "                                             'storeBlankCellsAsNulls': True,\n",
      "                                             'storeBlankRows': True}],\n",
      "                   'license': '',\n",
      "                   'modified': '2020-04-15T10:08:18Z',\n",
      "                   'name': 'tag',\n",
      "                   'rowCount': 9,\n",
      "                   'subject': '',\n",
      "                   'tags': [],\n",
      "                   'title': '',\n",
      "                   'version': ''},\n",
      " '2014260363969': {'contributors': '',\n",
      "                   'created': '2020-04-23T16:00:00Z',\n",
      "                   'creator': '',\n",
      "                   'customMetadata': {},\n",
      "                   'description': '',\n",
      "                   'homepage': '',\n",
      "                   'image': '',\n",
      "                   'importOptionMetadata': [{'encoding': '',\n",
      "                                             'fileSource': 'part_Covid_tweets.csv',\n",
      "                                             'guessCellValueTypes': False,\n",
      "                                             'headerLines': 1,\n",
      "                                             'ignoreLines': -1,\n",
      "                                             'includeFileSources': False,\n",
      "                                             'limit': -1,\n",
      "                                             'processQuotes': True,\n",
      "                                             'projectName': 'Covid_tweets csv',\n",
      "                                             'projectTags': [''],\n",
      "                                             'quoteCharacter': '\"',\n",
      "                                             'separator': ',',\n",
      "                                             'skipDataLines': 0,\n",
      "                                             'storeBlankCellsAsNulls': True,\n",
      "                                             'storeBlankRows': True}],\n",
      "                   'license': '',\n",
      "                   'modified': '2020-04-21T00:49:44Z',\n",
      "                   'name': 'Covid_tweets',\n",
      "                   'rowCount': 1000,\n",
      "                   'subject': '',\n",
      "                   'tags': [],\n",
      "                   'title': '',\n",
      "                   'version': ''},\n",
      " '2247077554890': {'contributors': '',\n",
      "                   'created': '2020-04-23T16:00:00Z',\n",
      "                   'creator': '',\n",
      "                   'customMetadata': {},\n",
      "                   'description': '',\n",
      "                   'homepage': '',\n",
      "                   'image': '',\n",
      "                   'importOptionMetadata': [{'encoding': '',\n",
      "                                             'fileSource': 'CoronaVirus_tweets.csv',\n",
      "                                             'guessCellValueTypes': False,\n",
      "                                             'headerLines': 1,\n",
      "                                             'ignoreLines': -1,\n",
      "                                             'includeFileSources': False,\n",
      "                                             'limit': -1,\n",
      "                                             'processQuotes': True,\n",
      "                                             'projectName': 'CoronaVirus_tweets',\n",
      "                                             'projectTags': [''],\n",
      "                                             'quoteCharacter': '\"',\n",
      "                                             'separator': ',',\n",
      "                                             'skipDataLines': 0,\n",
      "                                             'storeBlankCellsAsNulls': True,\n",
      "                                             'storeBlankRows': True}],\n",
      "                   'license': '',\n",
      "                   'modified': '2020-04-16T10:36:28Z',\n",
      "                   'name': 'CoronaVirus_tweets',\n",
      "                   'rowCount': 998,\n",
      "                   'subject': '',\n",
      "                   'tags': [],\n",
      "                   'title': '',\n",
      "                   'version': ''},\n",
      " '2546992919821': {'contributors': '',\n",
      "                   'created': '2020-04-23T16:00:00Z',\n",
      "                   'creator': '',\n",
      "                   'customMetadata': {},\n",
      "                   'description': '',\n",
      "                   'homepage': '',\n",
      "                   'image': '',\n",
      "                   'importOptionMetadata': [{'encoding': '',\n",
      "                                             'fileSource': 'Dependency_Demo.csv',\n",
      "                                             'guessCellValueTypes': False,\n",
      "                                             'headerLines': 1,\n",
      "                                             'ignoreLines': -1,\n",
      "                                             'includeFileSources': False,\n",
      "                                             'limit': -1,\n",
      "                                             'processQuotes': True,\n",
      "                                             'projectName': 'Dependency_Demo',\n",
      "                                             'projectTags': [''],\n",
      "                                             'quoteCharacter': '\"',\n",
      "                                             'separator': ',',\n",
      "                                             'skipDataLines': 0,\n",
      "                                             'storeBlankCellsAsNulls': True,\n",
      "                                             'storeBlankRows': True}],\n",
      "                   'license': '',\n",
      "                   'modified': '2020-04-23T21:05:11Z',\n",
      "                   'name': 'Dependency_Demo',\n",
      "                   'rowCount': 49,\n",
      "                   'subject': '',\n",
      "                   'tags': [],\n",
      "                   'title': '',\n",
      "                   'version': ''}}\n"
     ]
    }
   ],
   "source": [
    "# List project\n",
    "# Output: project id and metadata \n",
    "projects = refine.Refine(refine.RefineServer()).list_projects()\n",
    "print(type(projects))\n",
    "pprint(projects)"
   ]
  },
  {
   "cell_type": "code",
   "execution_count": 8,
   "metadata": {
    "pycharm": {
     "name": "#%%\n"
    }
   },
   "outputs": [],
   "source": [
    "# Connect OpenRefine server\n",
    "# Params: (server, project id)\n",
    "server = refine.RefineServer()\n",
    "projectID = 1596601650071\n",
    "refineop = Refineop(server,projectID)"
   ]
  },
  {
   "cell_type": "code",
   "execution_count": 9,
   "metadata": {},
   "outputs": [
    {
     "name": "stdout",
     "output_type": "stream",
     "text": [
      "{'future': [],\n",
      " 'past': [{'description': 'Text transform on 1000 cells in column Date (CST): '\n",
      "                          'value.toDate()',\n",
      "           'id': 1587318240278,\n",
      "           'time': '2020-04-19T17:38:16Z'},\n",
      "          {'description': 'Text transform on 1000 cells in column Author: '\n",
      "                          'value.replace(\"@\",\" \")',\n",
      "           'id': 1587318248763,\n",
      "           'time': '2020-04-19T17:38:16Z'},\n",
      "          {'description': 'Text transform on 1000 cells in column Author: '\n",
      "                          'value.trim()',\n",
      "           'id': 1587318074136,\n",
      "           'time': '2020-04-19T17:38:16Z'},\n",
      "          {'description': 'Create new column Author_Name based on column '\n",
      "                          'Author by filling 1000 rows with '\n",
      "                          \"grel:cells.Author.value+'-'+cells.Name.value\",\n",
      "           'id': 1587318376715,\n",
      "           'time': '2020-04-19T17:38:16Z'},\n",
      "          {'description': 'Text transform on 991 cells in column Author_Name: '\n",
      "                          'value.toLowercase()',\n",
      "           'id': 1587318394927,\n",
      "           'time': '2020-04-19T17:38:16Z'}]}\n",
      "[1587318240278, 1587318248763, 1587318074136, 1587318376715, 1587318394927]\n"
     ]
    }
   ],
   "source": [
    "# List history (From internal package)\n",
    "# Output: 'past' stands for current operation history; 'future' stands for 'undo' part \n",
    "# Description+id+time: metadata for each data cleaning step\n",
    "history_id = refineop.list_history()\n",
    "pprint(history_id)\n",
    "hid = [hid['id'] for hid in history_id['past']]\n",
    "print(hid)"
   ]
  },
  {
   "cell_type": "code",
   "execution_count": 10,
   "metadata": {},
   "outputs": [
    {
     "data": {
      "text/plain": [
       "True"
      ]
     },
     "execution_count": 10,
     "metadata": {},
     "output_type": "execute_result"
    }
   ],
   "source": [
    "# Undo step 3: hid ==\n",
    "# Params: history id for step 2 (3-1)\n",
    "refineop.undo_proj(lastDone_id = 1587318248763)"
   ]
  },
  {
   "cell_type": "code",
   "execution_count": 11,
   "metadata": {},
   "outputs": [
    {
     "data": {
      "text/plain": [
       "True"
      ]
     },
     "execution_count": 11,
     "metadata": {},
     "output_type": "execute_result"
    }
   ],
   "source": [
    "# Redo step 3: hid == \n",
    "# Params: history id for step 3\n",
    "refineop.undo_proj(lastDone_id =1587318074136 )"
   ]
  },
  {
   "cell_type": "code",
   "execution_count": 12,
   "metadata": {},
   "outputs": [
    {
     "name": "stdout",
     "output_type": "stream",
     "text": [
      "{'future': [{'description': 'Create new column Author_Name based on column '\n",
      "                            'Author by filling 1000 rows with '\n",
      "                            \"grel:cells.Author.value+'-'+cells.Name.value\",\n",
      "             'id': 1587318376715,\n",
      "             'time': '2020-04-19T17:38:16Z'},\n",
      "            {'description': 'Text transform on 991 cells in column '\n",
      "                            'Author_Name: value.toLowercase()',\n",
      "             'id': 1587318394927,\n",
      "             'time': '2020-04-19T17:38:16Z'}],\n",
      " 'past': [{'description': 'Text transform on 1000 cells in column Date (CST): '\n",
      "                          'value.toDate()',\n",
      "           'id': 1587318240278,\n",
      "           'time': '2020-04-19T17:38:16Z'},\n",
      "          {'description': 'Text transform on 1000 cells in column Author: '\n",
      "                          'value.replace(\"@\",\" \")',\n",
      "           'id': 1587318248763,\n",
      "           'time': '2020-04-19T17:38:16Z'},\n",
      "          {'description': 'Text transform on 1000 cells in column Author: '\n",
      "                          'value.trim()',\n",
      "           'id': 1587318074136,\n",
      "           'time': '2020-04-19T17:38:16Z'}]}\n"
     ]
    }
   ],
   "source": [
    "# Check if we've successfully redo step 3\n",
    "# Return: past add up one step; future minus one step \n",
    "history_id = refineop.list_history()\n",
    "pprint(history_id)"
   ]
  },
  {
   "cell_type": "code",
   "execution_count": 14,
   "metadata": {
    "pycharm": {
     "name": "#%%\n"
    },
    "scrolled": true
   },
   "outputs": [
    {
     "name": "stdout",
     "output_type": "stream",
     "text": [
      "[{'columnName': 'Date (CST)',\n",
      "  'description': 'Text transform on cells in column Date (CST) using '\n",
      "                 'expression value.toDate()',\n",
      "  'engineConfig': {'facets': [], 'mode': 'row-based'},\n",
      "  'expression': 'value.toDate()',\n",
      "  'onError': 'keep-original',\n",
      "  'op': 'core/text-transform',\n",
      "  'repeat': False,\n",
      "  'repeatCount': 10},\n",
      " {'columnName': 'Author',\n",
      "  'description': 'Text transform on cells in column Author using expression '\n",
      "                 'value.replace(\"@\",\" \")',\n",
      "  'engineConfig': {'facets': [], 'mode': 'row-based'},\n",
      "  'expression': 'value.replace(\"@\",\" \")',\n",
      "  'onError': 'keep-original',\n",
      "  'op': 'core/text-transform',\n",
      "  'repeat': False,\n",
      "  'repeatCount': 10},\n",
      " {'columnName': 'Author',\n",
      "  'description': 'Text transform on cells in column Author using expression '\n",
      "                 'value.trim()',\n",
      "  'engineConfig': {'facets': [], 'mode': 'row-based'},\n",
      "  'expression': 'value.trim()',\n",
      "  'onError': 'keep-original',\n",
      "  'op': 'core/text-transform',\n",
      "  'repeat': False,\n",
      "  'repeatCount': 10}]\n"
     ]
    }
   ],
   "source": [
    "# List operation history \n",
    "operation_history = refineop.get_operations()\n",
    "pprint(operation_history)"
   ]
  },
  {
   "cell_type": "markdown",
   "metadata": {},
   "source": [
    "Difference between operation history and history!\n",
    "1. Content: operation history returns prospective provenance; history returns retrospective provenance\n",
    "2. Operation history only returns \"past\"; history returns \"past\" and \"future\""
   ]
  },
  {
   "cell_type": "markdown",
   "metadata": {},
   "source": [
    "# Cell (Inner-Column)"
   ]
  },
  {
   "cell_type": "code",
   "execution_count": 15,
   "metadata": {
    "pycharm": {
     "name": "#%%\n"
    }
   },
   "outputs": [
    {
     "data": {
      "text/plain": [
       "{'code': 'ok',\n",
       " 'historyEntry': {'id': 1587681004170,\n",
       "  'description': 'Text transform on 976 cells in column Author: value.toUppercase()',\n",
       "  'time': '2020-04-23T22:23:42Z'}}"
      ]
     },
     "execution_count": 15,
     "metadata": {},
     "output_type": "execute_result"
    }
   ],
   "source": [
    "# Text Transform \n",
    "# Params: column name, expression\n",
    "# Return: status, history\n",
    "\n",
    "refineop.text_transform('Author',expression = 'value.toUppercase()')"
   ]
  },
  {
   "cell_type": "code",
   "execution_count": 16,
   "metadata": {
    "pycharm": {
     "name": "#%%\n"
    }
   },
   "outputs": [
    {
     "name": "stdout",
     "output_type": "stream",
     "text": [
      "[[{'value': 'U.S.A', 'count': 1}, {'value': 'USA', 'count': 1}], [{'value': 'US', 'count': 1}, {'value': 'US ', 'count': 1}]]\n"
     ]
    },
    {
     "data": {
      "text/plain": [
       "{'code': 'ok',\n",
       " 'historyEntry': {'id': 1587680789392,\n",
       "  'description': 'Mass edit 2 cells in column Country',\n",
       "  'time': '2020-04-23T22:25:06Z'}}"
      ]
     },
     "execution_count": 16,
     "metadata": {},
     "output_type": "execute_result"
    }
   ],
   "source": [
    "from collections import OrderedDict\n",
    "# Cluter and Edit \n",
    "# 1. compute clusters: return a list of clusters; \n",
    "#    params: column, clusterer_type='binning', function=None, params=None\n",
    "# Mass_edit\n",
    "# 2. apply (edits_from, edits_to) \n",
    "# Return: status, history\n",
    "\n",
    "clusters = refineop.compute_clusters('Country', clusterer_type='binning', function='fingerprint')\n",
    "print(clusters)\n",
    "\n",
    "# choose cluster\n",
    "from_edit=refineop.getFromValue(clusters)\n",
    "to_edit=refineop.getToValue(clusters)\n",
    "default_edits=OrderedDict()\n",
    "default_edits['fromBlank']='false'\n",
    "default_edits['fromError']='false'\n",
    "for f1,t1 in zip(from_edit, to_edit):\n",
    "    default_edits['from']=f1\n",
    "    default_edits['to']=t1\n",
    "edits=[default_edits]\n",
    "# mass edit : column, edits\n",
    "refineop.mass_edit('Country', edits)"
   ]
  },
  {
   "cell_type": "code",
   "execution_count": 17,
   "metadata": {},
   "outputs": [
    {
     "name": "stdout",
     "output_type": "stream",
     "text": [
      "[{'columnName': 'Date (CST)',\n",
      "  'description': 'Text transform on cells in column Date (CST) using '\n",
      "                 'expression value.toDate()',\n",
      "  'engineConfig': {'facets': [], 'mode': 'row-based'},\n",
      "  'expression': 'value.toDate()',\n",
      "  'onError': 'keep-original',\n",
      "  'op': 'core/text-transform',\n",
      "  'repeat': False,\n",
      "  'repeatCount': 10},\n",
      " {'columnName': 'Author',\n",
      "  'description': 'Text transform on cells in column Author using expression '\n",
      "                 'value.replace(\"@\",\" \")',\n",
      "  'engineConfig': {'facets': [], 'mode': 'row-based'},\n",
      "  'expression': 'value.replace(\"@\",\" \")',\n",
      "  'onError': 'keep-original',\n",
      "  'op': 'core/text-transform',\n",
      "  'repeat': False,\n",
      "  'repeatCount': 10},\n",
      " {'columnName': 'Author',\n",
      "  'description': 'Text transform on cells in column Author using expression '\n",
      "                 'value.trim()',\n",
      "  'engineConfig': {'facets': [], 'mode': 'row-based'},\n",
      "  'expression': 'value.trim()',\n",
      "  'onError': 'keep-original',\n",
      "  'op': 'core/text-transform',\n",
      "  'repeat': False,\n",
      "  'repeatCount': 10},\n",
      " {'columnName': 'Author',\n",
      "  'description': 'Text transform on cells in column Author using expression '\n",
      "                 'value.toUppercase()',\n",
      "  'engineConfig': {'facets': [], 'mode': 'row-based'},\n",
      "  'expression': 'value.toUppercase()',\n",
      "  'onError': 'set-to-blank',\n",
      "  'op': 'core/text-transform',\n",
      "  'repeat': False,\n",
      "  'repeatCount': 10},\n",
      " {'columnName': 'Country',\n",
      "  'description': 'Mass edit cells in column Country',\n",
      "  'edits': [{'from': ['US', 'US '],\n",
      "             'fromBlank': False,\n",
      "             'fromError': False,\n",
      "             'to': 'US'}],\n",
      "  'engineConfig': {'facets': [], 'mode': 'row-based'},\n",
      "  'expression': 'value',\n",
      "  'op': 'core/mass-edit'}]\n"
     ]
    }
   ],
   "source": [
    "# Check operation history\n",
    "pprint(refineop.get_operations())"
   ]
  },
  {
   "cell_type": "code",
   "execution_count": 18,
   "metadata": {},
   "outputs": [
    {
     "data": {
      "text/plain": [
       "{'code': 'ok',\n",
       " 'historyEntry': {'id': 1587681736726,\n",
       "  'description': 'Edit single cell on row 28, column Name',\n",
       "  'time': '2020-04-23T22:26:16Z'},\n",
       " 'cell': {'v': 'KIMBA707'},\n",
       " 'pool': {'recons': {}}}"
      ]
     },
     "execution_count": 18,
     "metadata": {},
     "output_type": "execute_result"
    }
   ],
   "source": [
    "# Single edit (27,5) from (@KIMBA707) to (KIMBA707)\n",
    "# Params: row, cell, type, value\n",
    "# is there any ops recorded?\n",
    "refineop.single_edit(27,5,'text','KIMBA707')"
   ]
  },
  {
   "cell_type": "code",
   "execution_count": 19,
   "metadata": {},
   "outputs": [
    {
     "name": "stdout",
     "output_type": "stream",
     "text": [
      "{'future': [],\n",
      " 'past': [{'description': 'Text transform on 1000 cells in column Date (CST): '\n",
      "                          'value.toDate()',\n",
      "           'id': 1587318240278,\n",
      "           'time': '2020-04-19T17:38:16Z'},\n",
      "          {'description': 'Text transform on 1000 cells in column Author: '\n",
      "                          'value.replace(\"@\",\" \")',\n",
      "           'id': 1587318248763,\n",
      "           'time': '2020-04-19T17:38:16Z'},\n",
      "          {'description': 'Text transform on 1000 cells in column Author: '\n",
      "                          'value.trim()',\n",
      "           'id': 1587318074136,\n",
      "           'time': '2020-04-19T17:38:16Z'},\n",
      "          {'description': 'Text transform on 976 cells in column Author: '\n",
      "                          'value.toUppercase()',\n",
      "           'id': 1587681004170,\n",
      "           'time': '2020-04-23T22:23:42Z'},\n",
      "          {'description': 'Mass edit 2 cells in column Country',\n",
      "           'id': 1587680789392,\n",
      "           'time': '2020-04-23T22:25:06Z'},\n",
      "          {'description': 'Edit single cell on row 28, column Name',\n",
      "           'id': 1587681736726,\n",
      "           'time': '2020-04-23T22:26:16Z'}]}\n"
     ]
    }
   ],
   "source": [
    "# Check history \n",
    "\n",
    "cur_history = refineop.list_history()\n",
    "pprint(cur_history)"
   ]
  },
  {
   "cell_type": "code",
   "execution_count": 20,
   "metadata": {},
   "outputs": [
    {
     "name": "stdout",
     "output_type": "stream",
     "text": [
      "[{'columnName': 'Date (CST)',\n",
      "  'description': 'Text transform on cells in column Date (CST) using '\n",
      "                 'expression value.toDate()',\n",
      "  'engineConfig': {'facets': [], 'mode': 'row-based'},\n",
      "  'expression': 'value.toDate()',\n",
      "  'onError': 'keep-original',\n",
      "  'op': 'core/text-transform',\n",
      "  'repeat': False,\n",
      "  'repeatCount': 10},\n",
      " {'columnName': 'Author',\n",
      "  'description': 'Text transform on cells in column Author using expression '\n",
      "                 'value.replace(\"@\",\" \")',\n",
      "  'engineConfig': {'facets': [], 'mode': 'row-based'},\n",
      "  'expression': 'value.replace(\"@\",\" \")',\n",
      "  'onError': 'keep-original',\n",
      "  'op': 'core/text-transform',\n",
      "  'repeat': False,\n",
      "  'repeatCount': 10},\n",
      " {'columnName': 'Author',\n",
      "  'description': 'Text transform on cells in column Author using expression '\n",
      "                 'value.trim()',\n",
      "  'engineConfig': {'facets': [], 'mode': 'row-based'},\n",
      "  'expression': 'value.trim()',\n",
      "  'onError': 'keep-original',\n",
      "  'op': 'core/text-transform',\n",
      "  'repeat': False,\n",
      "  'repeatCount': 10},\n",
      " {'columnName': 'Author',\n",
      "  'description': 'Text transform on cells in column Author using expression '\n",
      "                 'value.toUppercase()',\n",
      "  'engineConfig': {'facets': [], 'mode': 'row-based'},\n",
      "  'expression': 'value.toUppercase()',\n",
      "  'onError': 'set-to-blank',\n",
      "  'op': 'core/text-transform',\n",
      "  'repeat': False,\n",
      "  'repeatCount': 10},\n",
      " {'columnName': 'Country',\n",
      "  'description': 'Mass edit cells in column Country',\n",
      "  'edits': [{'from': ['US', 'US '],\n",
      "             'fromBlank': False,\n",
      "             'fromError': False,\n",
      "             'to': 'US'}],\n",
      "  'engineConfig': {'facets': [], 'mode': 'row-based'},\n",
      "  'expression': 'value',\n",
      "  'op': 'core/mass-edit'},\n",
      " {'description': 'Edit single cell on row 28, column Name'}]\n"
     ]
    }
   ],
   "source": [
    "# Check operation history\n",
    "pprint(refineop.get_operations())"
   ]
  },
  {
   "cell_type": "markdown",
   "metadata": {},
   "source": [
    "Difference between Operation History at client end and Operation History at server end"
   ]
  },
  {
   "cell_type": "markdown",
   "metadata": {},
   "source": [
    "# Column"
   ]
  },
  {
   "cell_type": "code",
   "execution_count": 21,
   "metadata": {
    "pycharm": {
     "name": "#%%\n"
    }
   },
   "outputs": [
    {
     "data": {
      "text/plain": [
       "{'code': 'ok',\n",
       " 'historyEntry': {'id': 1587681471431,\n",
       "  'description': 'Create new column Country_State based on column Country by filling 0 rows with cells.Country.value+cells.State.value',\n",
       "  'time': '2020-04-23T22:27:56Z'}}"
      ]
     },
     "execution_count": 21,
     "metadata": {},
     "output_type": "execute_result"
    }
   ],
   "source": [
    "# Addition Column\n",
    "# Params: column, new_column, expression='value', column_insert_index=None\n",
    "# Addition expression could be found https://github.com/OpenRefine/OpenRefine/wiki/Column-Editing\n",
    "refineop.add_column('Country','Country_State', expression='cells.Country.value+cells.State.value')"
   ]
  },
  {
   "cell_type": "code",
   "execution_count": 22,
   "metadata": {},
   "outputs": [
    {
     "data": {
      "text/plain": [
       "{'code': 'ok',\n",
       " 'historyEntry': {'id': 1587681204166,\n",
       "  'description': 'Split 1000 cell(s) in column Name into several columns by separator',\n",
       "  'time': '2020-04-23T22:28:18Z'}}"
      ]
     },
     "execution_count": 22,
     "metadata": {},
     "output_type": "execute_result"
    }
   ],
   "source": [
    "# Split Column\n",
    "# Params: column, separator=','\n",
    "refineop.split_column('Name',' ')"
   ]
  },
  {
   "cell_type": "code",
   "execution_count": 23,
   "metadata": {},
   "outputs": [
    {
     "data": {
      "text/plain": [
       "{'code': 'ok',\n",
       " 'historyEntry': {'id': 1587681205870,\n",
       "  'description': 'Rename column Name 1 to FirstName',\n",
       "  'time': '2020-04-23T22:28:31Z'}}"
      ]
     },
     "execution_count": 23,
     "metadata": {},
     "output_type": "execute_result"
    }
   ],
   "source": [
    "# Rename Column\n",
    "# Params: old column name, new column name\n",
    "refineop.rename_column('Name 1', 'FirstName')"
   ]
  },
  {
   "cell_type": "markdown",
   "metadata": {},
   "source": [
    "# Row level"
   ]
  },
  {
   "cell_type": "code",
   "execution_count": 24,
   "metadata": {
    "pycharm": {
     "name": "#%%\n"
    }
   },
   "outputs": [
    {
     "data": {
      "text/plain": [
       "{'code': 'ok',\n",
       " 'historyEntry': {'id': 1587681004243,\n",
       "  'description': 'Star row 3',\n",
       "  'time': '2020-04-23T22:28:44Z'}}"
      ]
     },
     "execution_count": 24,
     "metadata": {},
     "output_type": "execute_result"
    }
   ],
   "source": [
    "# Annotate Row (star/flag)\n",
    "# Row index, flagged:default='True'\n",
    "refineop.flag_row(1)\n",
    "refineop.star_row(2)"
   ]
  },
  {
   "cell_type": "markdown",
   "metadata": {
    "pycharm": {
     "name": "#%% md\n"
    }
   },
   "source": [
    "# Download Operation History "
   ]
  },
  {
   "cell_type": "code",
   "execution_count": 25,
   "metadata": {
    "pycharm": {
     "name": "#%%\n"
    }
   },
   "outputs": [],
   "source": [
    "# Load operation history\n",
    "# Params: load file name\n",
    "# Return: auto load operation history in your local machine\n",
    "file_name = 'load_recipe'\n",
    "refineop.load_ops(file_name)"
   ]
  },
  {
   "cell_type": "markdown",
   "metadata": {
    "pycharm": {
     "name": "#%% md\n"
    }
   },
   "source": [
    "# Download Cleaned Dataset"
   ]
  },
  {
   "cell_type": "code",
   "execution_count": 26,
   "metadata": {
    "pycharm": {
     "name": "#%%\n"
    }
   },
   "outputs": [],
   "source": [
    "# Load cleaned dataset\n",
    "# params: file name\n",
    "# return: auto load dataset in your local machine\n",
    "filename = 'CleanedData.csv'\n",
    "refineop.load_data(filename)"
   ]
  },
  {
   "cell_type": "markdown",
   "metadata": {
    "pycharm": {
     "name": "#%%\n"
    }
   },
   "source": [
    "check https://github.com/tmcphillips/openrefine-provenance/blob/master/models/openrefine%20data%20and%20project%20model.md for OpenRefine taxonomy in OpenRefine"
   ]
  },
  {
   "cell_type": "code",
   "execution_count": 21,
   "metadata": {
    "pycharm": {
     "name": "#%%\n"
    }
   },
   "outputs": [],
   "source": []
  },
  {
   "cell_type": "code",
   "execution_count": null,
   "metadata": {
    "pycharm": {
     "name": "#%%\n"
    }
   },
   "outputs": [],
   "source": []
  },
  {
   "cell_type": "code",
   "execution_count": null,
   "metadata": {
    "pycharm": {
     "name": "#%%\n"
    }
   },
   "outputs": [],
   "source": []
  },
  {
   "cell_type": "code",
   "execution_count": null,
   "metadata": {
    "pycharm": {
     "name": "#%%\n"
    }
   },
   "outputs": [],
   "source": []
  },
  {
   "cell_type": "code",
   "execution_count": null,
   "metadata": {
    "pycharm": {
     "name": "#%%\n"
    }
   },
   "outputs": [],
   "source": []
  },
  {
   "cell_type": "code",
   "execution_count": null,
   "metadata": {
    "pycharm": {
     "name": "#%%\n"
    }
   },
   "outputs": [],
   "source": []
  },
  {
   "cell_type": "code",
   "execution_count": null,
   "metadata": {
    "pycharm": {
     "name": "#%%\n"
    }
   },
   "outputs": [],
   "source": []
  },
  {
   "cell_type": "code",
   "execution_count": null,
   "metadata": {
    "pycharm": {
     "name": "#%%\n"
    }
   },
   "outputs": [],
   "source": []
  },
  {
   "cell_type": "code",
   "execution_count": null,
   "metadata": {
    "pycharm": {
     "name": "#%%\n"
    }
   },
   "outputs": [],
   "source": []
  },
  {
   "cell_type": "code",
   "execution_count": null,
   "metadata": {
    "pycharm": {
     "name": "#%%\n"
    }
   },
   "outputs": [],
   "source": []
  },
  {
   "cell_type": "code",
   "execution_count": null,
   "metadata": {
    "pycharm": {
     "name": "#%%\n"
    }
   },
   "outputs": [],
   "source": []
  },
  {
   "cell_type": "code",
   "execution_count": null,
   "metadata": {},
   "outputs": [],
   "source": []
  },
  {
   "cell_type": "code",
   "execution_count": null,
   "metadata": {},
   "outputs": [],
   "source": []
  }
 ],
 "metadata": {
  "kernelspec": {
   "display_name": "Python 3",
   "language": "python",
   "name": "python3"
  },
  "language_info": {
   "codemirror_mode": {
    "name": "ipython",
    "version": 3
   },
   "file_extension": ".py",
   "mimetype": "text/x-python",
   "name": "python",
   "nbconvert_exporter": "python",
   "pygments_lexer": "ipython3",
   "version": "3.8.2"
  },
  "pycharm": {
   "stem_cell": {
    "cell_type": "raw",
    "source": [],
    "metadata": {
     "collapsed": false
    }
   }
  }
 },
 "nbformat": 4,
 "nbformat_minor": 1
}