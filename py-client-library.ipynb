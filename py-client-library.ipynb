{
 "cells": [
  {
   "cell_type": "markdown",
   "metadata": {},
   "source": [
    "# https://github.com/LanLi2017/OpenRefine_client_Tutorial#openrefine-python-client-library"
   ]
  },
  {
   "cell_type": "markdown",
   "metadata": {},
   "source": [
    "To ask for communicating with OpenRefine server.\n",
    "Notes:\n",
    "1. Ensure you have OpenRefine.[http://127.0.0.1:3333/] running \n",
    "2. Server and Project id are required for sending request to OpenRefine server.\n",
    "3. OR.py has encapsulated and extended functions based on OR-Client library .[https://github.com/LanLi2017/OpenRefineClientPy3] \n",
    "4. After applying each operation, a 'history id' will be generated and corresponding history meta-info will be Auto-stored in your local machine. You might check it from worksapce. \n",
    "5. Update: crsf_token is needed when you send request, OpenRefine 3.3+. Check more from Openrefine API[https://github.com/OpenRefine/OpenRefine/wiki/Changes-for-3.3#csrf-protection-changes]\n",
    "6. Distinguish 'operation history' and 'history'\n",
    "7. For more interesting information: Notebook [https://github.com/ouseful-PR/openrefineder/tree/master/notebooks]"
   ]
  },
  {
   "cell_type": "code",
   "execution_count": 23,
   "metadata": {},
   "outputs": [],
   "source": [
    "from OpenRefineClientPy3.google_refine.refine import refine\n",
    "from OpenRefineClientPy3.google_refine.refine import facet\n",
    "from OR import Refineop\n",
    "import pandas as pd\n",
    "import json\n",
    "from pprint import pprint"
   ]
  },
  {
   "cell_type": "markdown",
   "metadata": {},
   "source": [
    "# Project"
   ]
  },
  {
   "cell_type": "code",
   "execution_count": 24,
   "metadata": {},
   "outputs": [],
   "source": [
    "# use refine.py to directly connect with server\n",
    "projects = refine.Refine(refine.RefineServer()).list_projects()\n",
    "p = refine.Refine(refine.RefineServer()).open_project(1956267142800)"
   ]
  },
  {
   "cell_type": "code",
   "execution_count": 25,
   "metadata": {
    "pycharm": {
     "name": "#%%\n"
    }
   },
   "outputs": [],
   "source": [
    "# use OR.py to connect with server \n",
    "# more functions supported, and refined outputs\n",
    "# Params: (server, project id)\n",
    "server = refine.RefineServer()\n",
    "projectID = 1956267142800\n",
    "refineop = Refineop(server,projectID)"
   ]
  },
  {
   "cell_type": "markdown",
   "metadata": {
    "pycharm": {
     "name": "#%% md\n"
    }
   },
   "source": [
    "# History"
   ]
  },
  {
   "cell_type": "code",
   "execution_count": 26,
   "metadata": {},
   "outputs": [
    {
     "name": "stdout",
     "output_type": "stream",
     "text": [
      "{'future': [{'description': 'Mass edit 739 cells in column scientificName',\n",
      "             'id': 1602135606758,\n",
      "             'time': '2020-10-08T05:32:10Z'},\n",
      "            {'description': 'Text transform on 21 cells in column country: '\n",
      "                            'value.toUppercase()',\n",
      "             'id': 1605762843888,\n",
      "             'time': '2020-11-19T05:05:09Z'},\n",
      "            {'description': 'Mass edit 303 cells in column scientificName',\n",
      "             'id': 1605763237463,\n",
      "             'time': '2020-11-19T05:17:35Z'},\n",
      "            {'description': 'Text transform on 0 cells in column country: '\n",
      "                            'value.toUppercase()',\n",
      "             'id': 1605764001677,\n",
      "             'time': '2020-11-19T05:17:39Z'},\n",
      "            {'description': 'Edit single cell on row 9, column country',\n",
      "             'id': 1605763442258,\n",
      "             'time': '2020-11-19T05:17:40Z'},\n",
      "            {'description': 'Create new column mm/dd based on column mo by '\n",
      "                            'filling 35549 rows with '\n",
      "                            'cells.mo.value+\"/\"+cells.dy.value',\n",
      "             'id': 1605763734208,\n",
      "             'time': '2020-11-19T05:17:41Z'},\n",
      "            {'description': 'Split 20231 cell(s) in column scientificName into '\n",
      "                            'several columns by separator',\n",
      "             'id': 1605763394814,\n",
      "             'time': '2020-11-19T05:17:43Z'},\n",
      "            {'description': 'Rename column scientificName 1 to '\n",
      "                            'scientific_Name_1',\n",
      "             'id': 1605763415668,\n",
      "             'time': '2020-11-19T05:17:44Z'},\n",
      "            {'description': 'Flag row 2',\n",
      "             'id': 1605763773903,\n",
      "             'time': '2020-11-19T05:17:46Z'},\n",
      "            {'description': 'Star row 3',\n",
      "             'id': 1605763765477,\n",
      "             'time': '2020-11-19T05:17:46Z'}],\n",
      " 'past': []}\n",
      "[]\n"
     ]
    }
   ],
   "source": [
    "# List history (From internal package)\n",
    "# Output: 'past' stands for current operation history; 'future' stands for 'undo' part \n",
    "# Description+id+time: metadata for each data cleaning step\n",
    "history_id = refineop.list_history()\n",
    "pprint(history_id)\n",
    "hid = [hid['id'] for hid in history_id['past']]\n",
    "print(hid)"
   ]
  },
  {
   "cell_type": "code",
   "execution_count": 27,
   "metadata": {},
   "outputs": [
    {
     "data": {
      "text/plain": [
       "True"
      ]
     },
     "execution_count": 27,
     "metadata": {},
     "output_type": "execute_result"
    }
   ],
   "source": [
    "# Redo step 2: hid ==\n",
    "# Params: history id for step 2 (3-1)\n",
    "refinesever =refine.RefineServer()\n",
    "csrf_t = refinesever.get_csrf()['token']\n",
    "refineop.undo_redo_proj(lastDone_id= 1605762843888,token=csrf_t)"
   ]
  },
  {
   "cell_type": "code",
   "execution_count": 28,
   "metadata": {
    "pycharm": {
     "name": "#%%\n"
    }
   },
   "outputs": [
    {
     "name": "stdout",
     "output_type": "stream",
     "text": [
      "{'future': [{'description': 'Mass edit 303 cells in column scientificName',\n",
      "             'id': 1605763237463,\n",
      "             'time': '2020-11-19T05:17:35Z'},\n",
      "            {'description': 'Text transform on 0 cells in column country: '\n",
      "                            'value.toUppercase()',\n",
      "             'id': 1605764001677,\n",
      "             'time': '2020-11-19T05:17:39Z'},\n",
      "            {'description': 'Edit single cell on row 9, column country',\n",
      "             'id': 1605763442258,\n",
      "             'time': '2020-11-19T05:17:40Z'},\n",
      "            {'description': 'Create new column mm/dd based on column mo by '\n",
      "                            'filling 35549 rows with '\n",
      "                            'cells.mo.value+\"/\"+cells.dy.value',\n",
      "             'id': 1605763734208,\n",
      "             'time': '2020-11-19T05:17:41Z'},\n",
      "            {'description': 'Split 20231 cell(s) in column scientificName into '\n",
      "                            'several columns by separator',\n",
      "             'id': 1605763394814,\n",
      "             'time': '2020-11-19T05:17:43Z'},\n",
      "            {'description': 'Rename column scientificName 1 to '\n",
      "                            'scientific_Name_1',\n",
      "             'id': 1605763415668,\n",
      "             'time': '2020-11-19T05:17:44Z'},\n",
      "            {'description': 'Flag row 2',\n",
      "             'id': 1605763773903,\n",
      "             'time': '2020-11-19T05:17:46Z'},\n",
      "            {'description': 'Star row 3',\n",
      "             'id': 1605763765477,\n",
      "             'time': '2020-11-19T05:17:46Z'}],\n",
      " 'past': [{'description': 'Mass edit 739 cells in column scientificName',\n",
      "           'id': 1602135606758,\n",
      "           'time': '2020-10-08T05:32:10Z'},\n",
      "          {'description': 'Text transform on 21 cells in column country: '\n",
      "                          'value.toUppercase()',\n",
      "           'id': 1605762843888,\n",
      "           'time': '2020-11-19T05:05:09Z'}]}\n"
     ]
    }
   ],
   "source": [
    "# Check if we've successfully redo step 3\n",
    "# Return: past add up one step; future minus one step \n",
    "history_id = refineop.list_history()\n",
    "pprint(history_id)"
   ]
  },
  {
   "cell_type": "code",
   "execution_count": 29,
   "metadata": {
    "pycharm": {
     "name": "#%%\n"
    },
    "scrolled": true
   },
   "outputs": [
    {
     "name": "stdout",
     "output_type": "stream",
     "text": [
      "[{'columnName': 'scientificName',\n",
      "  'description': 'Mass edit cells in column scientificName',\n",
      "  'edits': [{'from': ['Amphispiza bilineata',\n",
      "                      'Amphespiza bilineata',\n",
      "                      'Emphispiza bilinata',\n",
      "                      'Amphispiza bilineatus',\n",
      "                      'Amphispizo bilineata'],\n",
      "             'fromBlank': False,\n",
      "             'fromError': False,\n",
      "             'to': 'Amphispiza bilineata'},\n",
      "            {'from': ['Ammospermophilus harrisi',\n",
      "                      'Ammospermophilis harrisi',\n",
      "                      'Ammospermophilus harrisii'],\n",
      "             'fromBlank': False,\n",
      "             'fromError': False,\n",
      "             'to': 'Ammospermophilus harrisi'}],\n",
      "  'engineConfig': {'facets': [], 'mode': 'row-based'},\n",
      "  'expression': 'value',\n",
      "  'op': 'core/mass-edit'},\n",
      " {'columnName': 'country',\n",
      "  'description': 'Text transform on cells in column country using expression '\n",
      "                 'value.toUppercase()',\n",
      "  'engineConfig': {'facets': [], 'mode': 'row-based'},\n",
      "  'expression': 'value.toUppercase()',\n",
      "  'onError': 'set-to-blank',\n",
      "  'op': 'core/text-transform',\n",
      "  'repeat': False,\n",
      "  'repeatCount': 10}]\n"
     ]
    }
   ],
   "source": [
    "# List operation history \n",
    "operation_history = refineop.get_operations()\n",
    "pprint(operation_history)"
   ]
  },
  {
   "cell_type": "markdown",
   "metadata": {
    "pycharm": {
     "name": "#%% md\n"
    }
   },
   "source": [
    "Difference between operation history and history!\n",
    "1. Content: operation history returns prospective provenance; history returns retrospective provenance\n",
    "2. Operation history only returns \"past\"; history returns \"past\" and \"future\""
   ]
  },
  {
   "cell_type": "markdown",
   "metadata": {},
   "source": [
    "# Cell (Inner-Column)"
   ]
  },
  {
   "cell_type": "code",
   "execution_count": 30,
   "metadata": {
    "pycharm": {
     "name": "#%%\n"
    }
   },
   "outputs": [
    {
     "data": {
      "text/plain": [
       "{'historyEntry': {'id': 1605764855941,\n",
       "  'description': 'Text transform on 0 cells in column country: value.toUppercase()',\n",
       "  'time': '2020-11-19T05:31:38Z'},\n",
       " 'code': 'ok'}"
      ]
     },
     "execution_count": 30,
     "metadata": {},
     "output_type": "execute_result"
    }
   ],
   "source": [
    "# Text Transform \n",
    "# Params: column name, expression, csrf required\n",
    "# Return: status, history\n",
    "\n",
    "refinesever =refine.RefineServer()\n",
    "csrf_t = refinesever.get_csrf()['token']\n",
    "\n",
    "refineop.text_transform('country',expression = 'value.toUppercase()', token= csrf_t)"
   ]
  },
  {
   "cell_type": "code",
   "execution_count": 31,
   "metadata": {
    "pycharm": {
     "name": "#%%\n"
    }
   },
   "outputs": [
    {
     "data": {
      "text/plain": [
       "{'code': 'ok',\n",
       " 'historyEntry': {'id': 1605764171672,\n",
       "  'description': 'Edit single cell on row 9, column country',\n",
       "  'time': '2020-11-19T05:32:57Z'},\n",
       " 'cell': {'v': 'United States of America'},\n",
       " 'pool': {'recons': {}}}"
      ]
     },
     "execution_count": 31,
     "metadata": {},
     "output_type": "execute_result"
    }
   ],
   "source": [
    "# Single edit (8,18) from (@KIMBA707) to (KIMBA707)\n",
    "# Params: row, cell, type, value\n",
    "# is there any ops recorded?\n",
    "csrf_t = refinesever.get_csrf()['token']\n",
    "refineop.single_edit(8,18,'text','United States of America',csrf_t)"
   ]
  },
  {
   "cell_type": "markdown",
   "metadata": {
    "pycharm": {
     "name": "#%% md\n"
    }
   },
   "source": [
    "# Clustering\n",
    "Open Refine supports several clustering methods:\n",
    "\n",
    "- clusterer_type: binning; refine_function: fingerprint|metaphone3|cologne-phonetic\n",
    "- clusterer_type: binning; refine_function: ngram-fingerprint; params: {'ngram-size': INT}\n",
    "- clusterer_type: knn; refine_function: levenshtein|ppm; params: {'radius': FLOAT,'blocking-ngram-size': INT}"
   ]
  },
  {
   "cell_type": "code",
   "execution_count": 32,
   "metadata": {
    "pycharm": {
     "name": "#%%\n"
    }
   },
   "outputs": [],
   "source": [
    "# csrf token is needed as far as you need to \n",
    "# Post request to OpenRefine server\n",
    "csrf_t = refinesever.get_csrf()['token']"
   ]
  },
  {
   "cell_type": "code",
   "execution_count": 33,
   "metadata": {
    "pycharm": {
     "name": "#%%\n"
    }
   },
   "outputs": [
    {
     "data": {
      "text/plain": [
       "{'historyEntry': {'id': 1605765161328,\n",
       "  'description': 'Mass edit 303 cells in column scientificName',\n",
       "  'time': '2020-11-19T05:36:20Z'},\n",
       " 'code': 'ok'}"
      ]
     },
     "execution_count": 33,
     "metadata": {},
     "output_type": "execute_result"
    }
   ],
   "source": [
    "from collections import OrderedDict\n",
    "# Cluter and Edit \n",
    "# 1. compute clusters: return a list of clusters; \n",
    "#    params: column, clusterer_type='binning', function=None, params=None\n",
    "# Mass_edit\n",
    "# 2. apply (edits_from, edits_to) \n",
    "# Return: status, history\n",
    "\n",
    "clusters = refineop.compute_clusters('scientificName', csrf_t,clusterer_type='knn', function='levenshtein')\n",
    "clusters\n",
    "\n",
    "# choose cluster\n",
    "from_edit=refineop.getFromValue(clusters)\n",
    "to_edit=refineop.getToValue(clusters)\n",
    "default_edits=OrderedDict()\n",
    "default_edits['fromBlank']='false'\n",
    "default_edits['fromError']='false'\n",
    "for f1,t1 in zip(from_edit, to_edit):\n",
    "    default_edits['from']=f1\n",
    "    default_edits['to']=t1\n",
    "edits=[default_edits]\n",
    "# mass edit : column, edits\n",
    "refineop.mass_edit('scientificName', edits, csrf_t)"
   ]
  },
  {
   "cell_type": "code",
   "execution_count": 35,
   "metadata": {},
   "outputs": [
    {
     "data": {
      "text/plain": [
       "{'historyEntry': {'id': 1605764476617,\n",
       "  'description': 'Split 20231 cell(s) in column scientificName into several columns by separator',\n",
       "  'time': '2020-11-19T05:38:19Z'},\n",
       " 'code': 'ok'}"
      ]
     },
     "execution_count": 35,
     "metadata": {},
     "output_type": "execute_result"
    }
   ],
   "source": [
    "# Column"
   ]
  },
  {
   "cell_type": "code",
   "execution_count": 36,
   "metadata": {},
   "outputs": [
    {
     "data": {
      "text/plain": [
       "{'historyEntry': {'id': 1605764506603,\n",
       "  'description': 'Rename column scientificName 1 to scientific_Name_1',\n",
       "  'time': '2020-11-19T05:39:05Z'},\n",
       " 'code': 'ok'}"
      ]
     },
     "execution_count": 36,
     "metadata": {},
     "output_type": "execute_result"
    }
   ],
   "source": [
    "# Rename Column\n",
    "# Params: old column name, new column name\n",
    "csrf_t = refinesever.get_csrf()['token']\n",
    "refineop.rename_column('scientificName 1', 'scientific_Name_1', csrf_t)"
   ]
  },
  {
   "cell_type": "markdown",
   "metadata": {},
   "source": [
    "# Row level"
   ]
  },
  {
   "cell_type": "code",
   "execution_count": 37,
   "metadata": {
    "pycharm": {
     "name": "#%%\n"
    }
   },
   "outputs": [
    {
     "data": {
      "text/plain": [
       "{'historyEntry': {'id': 1605764719016,\n",
       "  'description': 'Star row 3',\n",
       "  'time': '2020-11-19T05:39:37Z'},\n",
       " 'code': 'ok'}"
      ]
     },
     "execution_count": 37,
     "metadata": {},
     "output_type": "execute_result"
    }
   ],
   "source": [
    "# Annotate Row (star/flag)\n",
    "# Row index, flagged:default='True'\n",
    "csrf_t_1 = refinesever.get_csrf()['token']\n",
    "refineop.flag_row(1,csrf_t_1)\n",
    "\n",
    "csrf_t_2 = refinesever.get_csrf()['token']\n",
    "refineop.star_row(2, csrf_t_2)"
   ]
  },
  {
   "cell_type": "markdown",
   "metadata": {
    "pycharm": {
     "name": "#%% md\n"
    }
   },
   "source": [
    "# Download Operation History "
   ]
  },
  {
   "cell_type": "code",
   "execution_count": 38,
   "metadata": {
    "pycharm": {
     "name": "#%%\n"
    }
   },
   "outputs": [],
   "source": [
    "# Load operation history\n",
    "# Params: load file name\n",
    "# Return: auto load operation history in your local machine\n",
    "file_name = 'load_recipe'\n",
    "refineop.load_ops(file_name)"
   ]
  },
  {
   "cell_type": "markdown",
   "metadata": {
    "pycharm": {
     "name": "#%% md\n"
    }
   },
   "source": [
    "# Download Cleaned Dataset"
   ]
  },
  {
   "cell_type": "code",
   "execution_count": 39,
   "metadata": {
    "pycharm": {
     "name": "#%%\n"
    }
   },
   "outputs": [],
   "source": [
    "# Load cleaned dataset\n",
    "# params: file name\n",
    "# return: auto load dataset in your local machine\n",
    "filename = 'CleanedData.csv'\n",
    "refineop.load_data(filename)"
   ]
  },
  {
   "cell_type": "markdown",
   "metadata": {
    "pycharm": {
     "name": "#%%\n"
    }
   },
   "source": [
    "check https://github.com/tmcphillips/openrefine-provenance/blob/master/models/openrefine%20data%20and%20project%20model.md for OpenRefine taxonomy in OpenRefine"
   ]
  },
  {
   "cell_type": "code",
   "execution_count": null,
   "metadata": {},
   "outputs": [],
   "source": []
  }
 ],
 "metadata": {
  "kernelspec": {
   "display_name": "Python 3",
   "language": "python",
   "name": "python3"
  },
  "language_info": {
   "codemirror_mode": {
    "name": "ipython",
    "version": 3
   },
   "file_extension": ".py",
   "mimetype": "text/x-python",
   "name": "python",
   "nbconvert_exporter": "python",
   "pygments_lexer": "ipython3",
   "version": "3.7.7"
  },
  "pycharm": {
   "stem_cell": {
    "cell_type": "raw",
    "source": [],
    "metadata": {
     "collapsed": false
    }
   }
  }
 },
 "nbformat": 4,
 "nbformat_minor": 1
}